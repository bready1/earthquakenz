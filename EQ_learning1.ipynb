{
 "cells": [
  {
   "cell_type": "code",
   "execution_count": 3,
   "metadata": {},
   "outputs": [],
   "source": [
    "import numpy as np\n",
    "import keras, sklearn\n",
    "import tensorflow as tf\n",
    "import matplotlib.pyplot as plt\n",
    "import glob\n",
    "import shutil\n",
    "from sklearn.model_selection import train_test_split\n",
    "import pickle\n",
    "import os"
   ]
  },
  {
   "cell_type": "code",
   "execution_count": 2,
   "metadata": {},
   "outputs": [
    {
     "name": "stdout",
     "output_type": "stream",
     "text": [
      "[name: \"/device:CPU:0\"\n",
      "device_type: \"CPU\"\n",
      "memory_limit: 268435456\n",
      "locality {\n",
      "}\n",
      "incarnation: 3426059514930705174\n",
      ", name: \"/device:XLA_CPU:0\"\n",
      "device_type: \"XLA_CPU\"\n",
      "memory_limit: 17179869184\n",
      "locality {\n",
      "}\n",
      "incarnation: 11161332826462732566\n",
      "physical_device_desc: \"device: XLA_CPU device\"\n",
      "]\n"
     ]
    }
   ],
   "source": [
    "from tensorflow.python.client import device_lib\n",
    "print(device_lib.list_local_devices())"
   ]
  },
  {
   "cell_type": "code",
   "execution_count": 2,
   "metadata": {},
   "outputs": [
    {
     "data": {
      "text/plain": [
       "[PhysicalDevice(name='/physical_device:CPU:0', device_type='CPU'),\n",
       " PhysicalDevice(name='/physical_device:XLA_CPU:0', device_type='XLA_CPU')]"
      ]
     },
     "execution_count": 2,
     "metadata": {},
     "output_type": "execute_result"
    }
   ],
   "source": [
    "import tensorflow as tf\n",
    "tf.config.list_physical_devices()"
   ]
  },
  {
   "cell_type": "code",
   "execution_count": 23,
   "metadata": {},
   "outputs": [],
   "source": [
    "# data_dir_quakes='/media/peter/data/earthquakenz/data/bloksnorm1/'\n",
    "# data_dir_noquakes='/media/peter/data/earthquakenz/data/noquakes/bloksnorm1/'\n",
    "# data_dir_all='/media/peter/data/earthquakenz/data/bloks_all/'\n",
    "# quake_filenames=os.listdir(data_dir_quakes)\n",
    "# noquake_filenames=os.listdir(data_dir_noquakes)\n",
    "# labels =[] #labeled 1 if there is a quake, else 0\n",
    "# filenames=[] #names of all the files\n",
    "\n",
    "# for filename in quake_filenames:\n",
    "#     if filename[-4:]=='.npy':\n",
    "#         shutil.copy(data_dir_quakes+filename,data_dir_all)\n",
    "#         labels.append(1)\n",
    "#         filenames.append(filename)\n",
    "        \n",
    "# for filename in noquake_filenames:\n",
    "#     if filename[-4:]=='.npy':\n",
    "#         shutil.copy(data_dir_noquakes+filename,data_dir_all)\n",
    "#         labels.append(0)\n",
    "#         filenames.append(filename)   \n",
    "    \n",
    "# np.save(data_dir_all+'labels.npy',labels)\n",
    "# np.save(data_dir_all+'filenames.npy',filenames)\n"
   ]
  },
  {
   "cell_type": "code",
   "execution_count": 24,
   "metadata": {},
   "outputs": [
    {
     "data": {
      "text/plain": [
       "('2.3.1', '0.23.1', '2.2.0')"
      ]
     },
     "execution_count": 24,
     "metadata": {},
     "output_type": "execute_result"
    }
   ],
   "source": [
    "keras.__version__, sklearn.__version__, tf.__version__\n"
   ]
  },
  {
   "cell_type": "code",
   "execution_count": 3,
   "metadata": {},
   "outputs": [],
   "source": [
    "data_dir_quakes='/media/peter/data/earthquakenz/data/bloksnorm1/'\n",
    "data_dir_noquakes='/media/peter/data/earthquakenz/data/noquakes/bloksnorm1/'\n",
    "data_dir_all='/media/peter/data/earthquakenz/data/bloks_all/'\n",
    "filenames=np.load(data_dir_all+'filenames.npy')\n",
    "labels=np.load(data_dir_all+'labels.npy')\n",
    "# labels=keras.utils.to_categorical(labels)"
   ]
  },
  {
   "cell_type": "code",
   "execution_count": 13,
   "metadata": {},
   "outputs": [],
   "source": [
    "filenames_shuffled, labels_shuffled = sklearn.utils.shuffle(filenames,labels)"
   ]
  },
  {
   "cell_type": "code",
   "execution_count": 5,
   "metadata": {},
   "outputs": [],
   "source": [
    "X_train_filenames, X_val_filenames, y_train, y_val=train_test_split(filenames_shuffled, labels_shuffled, \n",
    "                                                                   test_size=0.2,random_state=42)"
   ]
  },
  {
   "cell_type": "code",
   "execution_count": 6,
   "metadata": {},
   "outputs": [
    {
     "data": {
      "text/plain": [
       "array(['2019p258188.npy', '2018p584659.npy', '1539713539.95.npy', ...,\n",
       "       '1538155240.77.npy', '1448827549.93.npy', '1502864402.99.npy'],\n",
       "      dtype='<U17')"
      ]
     },
     "execution_count": 6,
     "metadata": {},
     "output_type": "execute_result"
    }
   ],
   "source": [
    "X_train_filenames"
   ]
  },
  {
   "cell_type": "code",
   "execution_count": 7,
   "metadata": {},
   "outputs": [
    {
     "data": {
      "text/plain": [
       "(1523, 381)"
      ]
     },
     "execution_count": 7,
     "metadata": {},
     "output_type": "execute_result"
    }
   ],
   "source": [
    "len(y_train),len(y_val)"
   ]
  },
  {
   "cell_type": "code",
   "execution_count": 8,
   "metadata": {},
   "outputs": [],
   "source": [
    "\n",
    "class blok_Generator(keras.utils.Sequence) :\n",
    "\n",
    "    def __init__(self, blok_filenames, labels, batch_size) :\n",
    "        self.blok_filenames = blok_filenames\n",
    "        self.labels = labels\n",
    "        self.batch_size = batch_size\n",
    "\n",
    "\n",
    "    def __len__(self) :\n",
    "        print('calling len')\n",
    "        return (np.ceil(len(self.blok_filenames) / float(self.batch_size))).astype(np.int)\n",
    "\n",
    "\n",
    "    def __getitem__(self, idx) :\n",
    "        batch_x = self.blok_filenames[idx * self.batch_size : (idx+1) * self.batch_size]\n",
    "        batch_y = self.labels[idx * self.batch_size : (idx+1) * self.batch_size]\n",
    "        data_dir_all='/media/peter/data/earthquakenz/data/bloks_all/'\n",
    "\n",
    "        return np.array([np.reshape(np.load(data_dir_all+file_name),(3000,3*58,1)) for file_name in batch_x]),np.array(batch_y)\n",
    "\n",
    "#     return np.array([np.load(data_dir_all+file_name) for file_name in batch_x]),np.array(batch_y)\n",
    "#     return np.array([\n",
    "#             resize(imread('/content/all_images/' + str(file_name)), (80, 80, 3))\n",
    "#                for file_name in batch_x])/255.0, np.array(batch_y)"
   ]
  },
  {
   "cell_type": "code",
   "execution_count": 8,
   "metadata": {},
   "outputs": [
    {
     "ename": "NameError",
     "evalue": "name 'training_batch_generator' is not defined",
     "output_type": "error",
     "traceback": [
      "\u001b[0;31m---------------------------------------------------------------------------\u001b[0m",
      "\u001b[0;31mNameError\u001b[0m                                 Traceback (most recent call last)",
      "\u001b[0;32m<ipython-input-8-f0df02ae014b>\u001b[0m in \u001b[0;36m<module>\u001b[0;34m()\u001b[0m\n\u001b[0;32m----> 1\u001b[0;31m \u001b[0mblok1\u001b[0m\u001b[0;34m,\u001b[0m\u001b[0my1\u001b[0m\u001b[0;34m=\u001b[0m\u001b[0mtraining_batch_generator\u001b[0m\u001b[0;34m.\u001b[0m\u001b[0m__getitem__\u001b[0m\u001b[0;34m(\u001b[0m\u001b[0;36m0\u001b[0m\u001b[0;34m)\u001b[0m\u001b[0;34m\u001b[0m\u001b[0;34m\u001b[0m\u001b[0m\n\u001b[0m\u001b[1;32m      2\u001b[0m \u001b[0mplt\u001b[0m\u001b[0;34m.\u001b[0m\u001b[0mfigure\u001b[0m\u001b[0;34m(\u001b[0m\u001b[0mfigsize\u001b[0m\u001b[0;34m=\u001b[0m\u001b[0;34m(\u001b[0m\u001b[0;36m24\u001b[0m\u001b[0;34m,\u001b[0m\u001b[0;36m9\u001b[0m\u001b[0;34m)\u001b[0m\u001b[0;34m)\u001b[0m\u001b[0;34m\u001b[0m\u001b[0;34m\u001b[0m\u001b[0m\n\u001b[1;32m      3\u001b[0m \u001b[0mplt\u001b[0m\u001b[0;34m.\u001b[0m\u001b[0mimshow\u001b[0m\u001b[0;34m(\u001b[0m\u001b[0mblok1\u001b[0m\u001b[0;34m[\u001b[0m\u001b[0;36m3\u001b[0m\u001b[0;34m,\u001b[0m\u001b[0;34m:\u001b[0m\u001b[0;34m:\u001b[0m\u001b[0;34m,\u001b[0m\u001b[0;34m:\u001b[0m\u001b[0;34m,\u001b[0m\u001b[0;36m0\u001b[0m\u001b[0;34m]\u001b[0m\u001b[0;34m.\u001b[0m\u001b[0mT\u001b[0m\u001b[0;34m,\u001b[0m\u001b[0maspect\u001b[0m\u001b[0;34m=\u001b[0m\u001b[0;34m'auto'\u001b[0m\u001b[0;34m,\u001b[0m\u001b[0minterpolation\u001b[0m\u001b[0;34m=\u001b[0m\u001b[0;34m'none'\u001b[0m\u001b[0;34m)\u001b[0m\u001b[0;34m\u001b[0m\u001b[0;34m\u001b[0m\u001b[0m\n\u001b[1;32m      4\u001b[0m \u001b[0mplt\u001b[0m\u001b[0;34m.\u001b[0m\u001b[0mcolorbar\u001b[0m\u001b[0;34m(\u001b[0m\u001b[0;34m)\u001b[0m\u001b[0;34m\u001b[0m\u001b[0;34m\u001b[0m\u001b[0m\n\u001b[1;32m      5\u001b[0m \u001b[0mprint\u001b[0m\u001b[0;34m(\u001b[0m\u001b[0my1\u001b[0m\u001b[0;34m)\u001b[0m\u001b[0;34m\u001b[0m\u001b[0;34m\u001b[0m\u001b[0m\n",
      "\u001b[0;31mNameError\u001b[0m: name 'training_batch_generator' is not defined"
     ]
    }
   ],
   "source": [
    "blok1,y1=training_batch_generator.__getitem__(0)\n",
    "plt.figure(figsize=(24,9))\n",
    "plt.imshow(blok1[3,::,:,0].T,aspect='auto',interpolation='none')\n",
    "plt.colorbar()\n",
    "print(y1)"
   ]
  },
  {
   "cell_type": "code",
   "execution_count": 151,
   "metadata": {},
   "outputs": [
    {
     "data": {
      "text/plain": [
       "[<matplotlib.lines.Line2D at 0x7faec493f0b8>,\n",
       " <matplotlib.lines.Line2D at 0x7faec493f1d0>,\n",
       " <matplotlib.lines.Line2D at 0x7faec493f320>]"
      ]
     },
     "execution_count": 151,
     "metadata": {},
     "output_type": "execute_result"
    },
    {
     "data": {
      "image/png": "[encoded data removed]",
      "text/plain": [
       "<Figure size 1728x648 with 1 Axes>"
      ]
     },
     "metadata": {},
     "output_type": "display_data"
    }
   ],
   "source": [
    "plt.figure(figsize=(24,9))\n",
    "\n",
    "plt.plot(blok1[3,100:200:3,0:3,0])"
   ]
  },
  {
   "cell_type": "code",
   "execution_count": 9,
   "metadata": {},
   "outputs": [],
   "source": [
    "from keras.models import Sequential\n",
    "from keras.layers import Dense, Dropout, Flatten,BatchNormalization\n",
    "from keras.layers import Conv2D, MaxPooling2D,SeparableConv2D,DepthwiseConv2D,Conv1D\n"
   ]
  },
  {
   "cell_type": "markdown",
   "metadata": {},
   "source": [
    "https://medium.com/@mrgarg.rajat/training-on-large-datasets-that-dont-fit-in-memory-in-keras-60a974785d71"
   ]
  },
  {
   "cell_type": "code",
   "execution_count": 10,
   "metadata": {},
   "outputs": [],
   "source": [
    "batch_size=16\n",
    "\n",
    "training_batch_generator=blok_Generator(X_train_filenames,y_train,batch_size)\n",
    "validation_batch_generator=blok_Generator(X_val_filenames,y_val,batch_size)\n",
    "# input_shape=(batch_size,3000,3,58) #np.load(data_dir_all+noquake_filenames[0]).shape\n",
    "input_shape=(3000,3*58) #np.load(data_dir_all+noquake_filenames[0]).shape"
   ]
  },
  {
   "cell_type": "code",
   "execution_count": 11,
   "metadata": {},
   "outputs": [
    {
     "name": "stdout",
     "output_type": "stream",
     "text": [
      "calling len\n"
     ]
    },
    {
     "data": {
      "text/plain": [
       "96"
      ]
     },
     "execution_count": 11,
     "metadata": {},
     "output_type": "execute_result"
    }
   ],
   "source": [
    "len(training_batch_generator)"
   ]
  },
  {
   "cell_type": "code",
   "execution_count": 12,
   "metadata": {},
   "outputs": [],
   "source": [
    "def create_QCNN():\n",
    "    model = Sequential()\n",
    "    \n",
    "    model.add(DepthwiseConv2D(kernel_size=(10,3),depth_multiplier=3))\n",
    "    model.add(SeparableConv2D(filters=128,kernel_size=(10,3),padding='valid',input_shape=input_shape,activation ='relu'))\n",
    "    model.add(BatchNormalization(axis=-3))\n",
    "    model.add(SeparableConv2D(filters=128,kernel_size=(10,3),padding='valid',input_shape=input_shape,activation ='relu'))\n",
    "    model.add(MaxPooling2D(pool_size=(2,3)))\n",
    "    model.add(Dropout(0.25))\n",
    "    \n",
    "    model.add(Flatten())\n",
    "    model.add(Dense(256, activation = \"relu\")) #Fully connected layer\n",
    "    model.add(BatchNormalization())\n",
    "    model.add(Dropout(0.2))\n",
    "    \n",
    "    model.add(Dense(256, activation = \"relu\")) #Fully connected layer\n",
    "    model.add(BatchNormalization())\n",
    "    model.add(Dropout(0.2))\n",
    "    \n",
    "    model.add(Dense(64, activation = \"relu\")) #Fully connected layer\n",
    "    model.add(BatchNormalization())\n",
    "    model.add(Dropout(0.4))\n",
    "\n",
    "#     model.add(Dense(12,activation='relu'))\n",
    "    model.add(Dense(1,activation='sigmoid'))\n",
    "    model.compile(loss='binary_crossentropy', optimizer='Adam')\n",
    "    print('Model Compiled')\n",
    "    \n",
    "    return model"
   ]
  },
  {
   "cell_type": "code",
   "execution_count": 13,
   "metadata": {},
   "outputs": [
    {
     "name": "stdout",
     "output_type": "stream",
     "text": [
      "Model Compiled\n"
     ]
    }
   ],
   "source": [
    "model_QCNN=create_QCNN()\n",
    "# model_QCNN.summary()"
   ]
  },
  {
   "cell_type": "code",
   "execution_count": 14,
   "metadata": {},
   "outputs": [
    {
     "ename": "NameError",
     "evalue": "name 'model_CNN' is not defined",
     "output_type": "error",
     "traceback": [
      "\u001b[0;31m---------------------------------------------------------------------------\u001b[0m",
      "\u001b[0;31mNameError\u001b[0m                                 Traceback (most recent call last)",
      "\u001b[0;32m<ipython-input-14-a4f579bc5fe5>\u001b[0m in \u001b[0;36m<module>\u001b[0;34m()\u001b[0m\n\u001b[1;32m      1\u001b[0m \u001b[0mepochs\u001b[0m\u001b[0;34m=\u001b[0m\u001b[0;36m2\u001b[0m\u001b[0;34m\u001b[0m\u001b[0;34m\u001b[0m\u001b[0m\n\u001b[0;32m----> 2\u001b[0;31m \u001b[0mmodel_CNN\u001b[0m\u001b[0;34m.\u001b[0m\u001b[0mfit_generator\u001b[0m\u001b[0;34m(\u001b[0m\u001b[0mgen\u001b[0m\u001b[0;34m)\u001b[0m\u001b[0;34m\u001b[0m\u001b[0;34m\u001b[0m\u001b[0m\n\u001b[0m",
      "\u001b[0;31mNameError\u001b[0m: name 'model_CNN' is not defined"
     ]
    }
   ],
   "source": [
    "epochs=2\n",
    "model_CNN.fit_generator(gen)"
   ]
  },
  {
   "cell_type": "code",
   "execution_count": 15,
   "metadata": {},
   "outputs": [
    {
     "data": {
      "text/plain": [
       "237.5"
      ]
     },
     "execution_count": 15,
     "metadata": {},
     "output_type": "execute_result"
    }
   ],
   "source": [
    "3800/16"
   ]
  },
  {
   "cell_type": "code",
   "execution_count": 16,
   "metadata": {},
   "outputs": [
    {
     "data": {
      "text/plain": [
       "'channels_last'"
      ]
     },
     "execution_count": 16,
     "metadata": {},
     "output_type": "execute_result"
    }
   ],
   "source": [
    "\n",
    "keras.backend.image_data_format()"
   ]
  },
  {
   "cell_type": "code",
   "execution_count": 17,
   "metadata": {},
   "outputs": [
    {
     "ename": "NameError",
     "evalue": "name 'noquake_filenames' is not defined",
     "output_type": "error",
     "traceback": [
      "\u001b[0;31m---------------------------------------------------------------------------\u001b[0m",
      "\u001b[0;31mNameError\u001b[0m                                 Traceback (most recent call last)",
      "\u001b[0;32m<ipython-input-17-eec9ad73864d>\u001b[0m in \u001b[0;36m<module>\u001b[0;34m()\u001b[0m\n\u001b[0;32m----> 1\u001b[0;31m \u001b[0mblok_nq1\u001b[0m\u001b[0;34m=\u001b[0m\u001b[0mnp\u001b[0m\u001b[0;34m.\u001b[0m\u001b[0mload\u001b[0m\u001b[0;34m(\u001b[0m\u001b[0mdata_dir_all\u001b[0m\u001b[0;34m+\u001b[0m\u001b[0mnoquake_filenames\u001b[0m\u001b[0;34m[\u001b[0m\u001b[0;36m0\u001b[0m\u001b[0;34m]\u001b[0m\u001b[0;34m)\u001b[0m\u001b[0;34m\u001b[0m\u001b[0;34m\u001b[0m\u001b[0m\n\u001b[0m\u001b[1;32m      2\u001b[0m \u001b[0mblok_q1\u001b[0m\u001b[0;34m=\u001b[0m\u001b[0mnp\u001b[0m\u001b[0;34m.\u001b[0m\u001b[0mload\u001b[0m\u001b[0;34m(\u001b[0m\u001b[0mdata_dir_all\u001b[0m\u001b[0;34m+\u001b[0m\u001b[0mquake_filenames\u001b[0m\u001b[0;34m[\u001b[0m\u001b[0;36m0\u001b[0m\u001b[0;34m]\u001b[0m\u001b[0;34m)\u001b[0m\u001b[0;34m\u001b[0m\u001b[0;34m\u001b[0m\u001b[0m\n",
      "\u001b[0;31mNameError\u001b[0m: name 'noquake_filenames' is not defined"
     ]
    }
   ],
   "source": [
    "blok_nq1=np.load(data_dir_all+noquake_filenames[0])\n",
    "blok_q1=np.load(data_dir_all+quake_filenames[0])"
   ]
  },
  {
   "cell_type": "code",
   "execution_count": 18,
   "metadata": {},
   "outputs": [
    {
     "ename": "NameError",
     "evalue": "name 'blok_nq1' is not defined",
     "output_type": "error",
     "traceback": [
      "\u001b[0;31m---------------------------------------------------------------------------\u001b[0m",
      "\u001b[0;31mNameError\u001b[0m                                 Traceback (most recent call last)",
      "\u001b[0;32m<ipython-input-18-16ca9479683f>\u001b[0m in \u001b[0;36m<module>\u001b[0;34m()\u001b[0m\n\u001b[0;32m----> 1\u001b[0;31m \u001b[0mblok_nq1\u001b[0m\u001b[0;34m.\u001b[0m\u001b[0mshape\u001b[0m\u001b[0;34m\u001b[0m\u001b[0;34m\u001b[0m\u001b[0m\n\u001b[0m",
      "\u001b[0;31mNameError\u001b[0m: name 'blok_nq1' is not defined"
     ]
    }
   ],
   "source": [
    "blok_nq1.shape"
   ]
  },
  {
   "cell_type": "code",
   "execution_count": 19,
   "metadata": {},
   "outputs": [
    {
     "ename": "NameError",
     "evalue": "name 'blok_q1' is not defined",
     "output_type": "error",
     "traceback": [
      "\u001b[0;31m---------------------------------------------------------------------------\u001b[0m",
      "\u001b[0;31mNameError\u001b[0m                                 Traceback (most recent call last)",
      "\u001b[0;32m<ipython-input-19-122d4d819ee5>\u001b[0m in \u001b[0;36m<module>\u001b[0;34m()\u001b[0m\n\u001b[0;32m----> 1\u001b[0;31m \u001b[0mblok_q1\u001b[0m\u001b[0;34m.\u001b[0m\u001b[0mshape\u001b[0m\u001b[0;34m\u001b[0m\u001b[0;34m\u001b[0m\u001b[0m\n\u001b[0m",
      "\u001b[0;31mNameError\u001b[0m: name 'blok_q1' is not defined"
     ]
    }
   ],
   "source": [
    "blok_q1.shape"
   ]
  },
  {
   "cell_type": "code",
   "execution_count": 11,
   "metadata": {},
   "outputs": [],
   "source": [
    "input_shape=(3000,58*3,1)"
   ]
  },
  {
   "cell_type": "code",
   "execution_count": 21,
   "metadata": {},
   "outputs": [
    {
     "name": "stdout",
     "output_type": "stream",
     "text": [
      "Model Compiled\n"
     ]
    }
   ],
   "source": [
    "model = Sequential()\n",
    "\n",
    "model.add(Conv2D(filters=64,kernel_size=(15,3),strides=(1,3),input_shape=input_shape,activation ='relu'\n",
    "                          ,padding='valid'))\n",
    "\n",
    "model.add(MaxPooling2D(pool_size=(3,3)))\n",
    "model.add(BatchNormalization(axis=3))\n",
    "\n",
    "# model.add(Conv2D(filters=32,kernel_size=(3,3),strides=(3,3)\n",
    "#                           ,activation ='relu',padding='valid'))\n",
    "\n",
    "model.add(SeparableConv2D(filters=32,kernel_size=(10,1),padding='valid',activation ='relu'))\n",
    "# model.add(MaxPooling2D(pool_size=(3,3)))\n",
    "\n",
    "model.add(SeparableConv2D(filters=32,kernel_size=(10,1),padding='valid',activation ='relu'))\n",
    "#,input_shape=input_shape,activation ='relu'))\n",
    "# model.add(BatchNormalization(axis=3))\n",
    "# model.add(SeparableConv2D(filters=32,kernel_size=(10,3),padding='valid'))\n",
    "#,input_shape=input_shape,activation ='relu'))\n",
    "# model.add(MaxPooling2D(pool_size=(3,3)))\n",
    "# model.add(Dropout(0.25))\n",
    "\n",
    "model.add(BatchNormalization())\n",
    "model.add(Flatten())\n",
    "model.add(Dense(32, activation = \"relu\")) #Fully connected layer\n",
    "model.add(BatchNormalization())\n",
    "model.add(Dropout(0.2))\n",
    "\n",
    "\n",
    "model.add(Dense(32, activation = \"relu\")) #Fully connected layer\n",
    "# model.add(BatchNormalization())\n",
    "# model.add(Dropout(0.2))\n",
    "\n",
    "# model.add(Dense(256, activation = \"relu\")) #Fully connected layer\n",
    "# model.add(BatchNormalization())\n",
    "# model.add(Dropout(0.2))\n",
    "\n",
    "# model.add(Dense(64, activation = \"relu\")) #Fully connected layer\n",
    "# model.add(BatchNormalization())\n",
    "# model.add(Dropout(0.4))\n",
    "\n",
    "\n",
    "# opt = keras.optimizers.Adam(learning_rate=0.003)\n",
    "opt = tf.keras.optimizers.SGD(learning_rate=0.1)\n",
    "model.add(Dense(12,activation='relu'))\n",
    "model.add(Dense(1,activation='sigmoid'))\n",
    "model.compile(loss='binary_crossentropy', optimizer='Adam',\n",
    "              metrics=[tf.keras.metrics.BinaryAccuracy(),\n",
    "                       tf.keras.metrics.FalseNegatives(),tf.keras.metrics.FalsePositives()])\n",
    "print('Model Compiled')"
   ]
  },
  {
   "cell_type": "code",
   "execution_count": 32,
   "metadata": {},
   "outputs": [
    {
     "name": "stdout",
     "output_type": "stream",
     "text": [
      "Model Compiled\n"
     ]
    }
   ],
   "source": [
    "model = Sequential()\n",
    "\n",
    "\n",
    "\n",
    "model.add(Conv2D(filters=12,kernel_size=(3,3),strides=(1,3),input_shape=input_shape,activation ='relu'\n",
    "                          ,padding='valid'))\n",
    "# model.add(Conv2D(filters=12,kernel_size=(10,1),strides=(4,1),input_shape=input_shape,activation ='relu'\n",
    "#                           ,padding='valid'))\n",
    "model.add(MaxPooling2D(pool_size=(3,1)))\n",
    "\n",
    "model.add(Conv2D(filters=10,kernel_size=(15,1),strides=(5,1),activation ='relu'\n",
    "                          ,padding='valid'))\n",
    "model.add(MaxPooling2D(pool_size=(12,1))) #used to be 12\n",
    "model.add(BatchNormalization(axis=3))\n",
    "\n",
    "# model.add(Conv2D(filters=20,kernel_size=(6,1),strides=(3,1)\n",
    "#                           ,activation ='relu',padding='valid'))\n",
    "\n",
    "# model.add(SeparableConv2D(filters=2,kernel_size=(10,1),padding='valid',activation ='relu'))\n",
    "# model.add(MaxPooling2D(pool_size=(3,3)))\n",
    "\n",
    "# model.add(SeparableConv2D(filters=32,kernel_size=(10,3),padding='valid',activation ='relu'))\n",
    "#,input_shape=input_shape,activation ='relu'))\n",
    "# model.add(BatchNormalization(axis=3))\n",
    "# model.add(SeparableConv2D(filters=32,kernel_size=(10,3),padding='valid'))\n",
    "#,input_shape=input_shape,activation ='relu'))\n",
    "# model.add(MaxPooling2D(pool_size=(3,3)))\n",
    "# model.add(Dropout(0.25))\n",
    "\n",
    "model.add(BatchNormalization())\n",
    "model.add(Flatten())\n",
    "model.add(Dense(128, activation = \"relu\")) #Fully connected layer\n",
    "model.add(BatchNormalization())\n",
    "model.add(Dropout(0.2))\n",
    "\n",
    "\n",
    "model.add(Dense(128, activation = \"relu\")) #Fully connected layer\n",
    "# model.add(BatchNormalization())\n",
    "# model.add(Dropout(0.2))\n",
    "model.add(Dense(128, activation = \"relu\")) #Fully connected layer\n",
    "model.add(Dense(128, activation = \"relu\")) #Fully connected layer\n",
    "\n",
    "model.add(Dense(128, activation = \"relu\")) #Fully connected layer\n",
    "# model.add(BatchNormalization())\n",
    "# model.add(Dropout(0.2))\n",
    "model.add(Dense(128, activation = \"relu\")) #Fully connected layer\n",
    "# model.add(BatchNormalization())\n",
    "model.add(Dropout(0.2))\n",
    "model.add(Dense(32, activation = \"relu\")) #Fully connected layer\n",
    "# model.add(BatchNormalization())\n",
    "model.add(Dropout(0.2))\n",
    "# model.add(Dense(64, activation = \"relu\")) #Fully connected layer\n",
    "# model.add(BatchNormalization())\n",
    "# model.add(Dropout(0.4))\n",
    "\n",
    "\n",
    "opt = keras.optimizers.Adam(learning_rate=0.003)\n",
    "# opt = tf.keras.optimizers.SGD(learning_rate=0.1)\n",
    "model.add(Dense(12,activation='relu'))\n",
    "model.add(Dense(1,activation='sigmoid'))\n",
    "model.compile(loss='binary_crossentropy', optimizer=opt,\n",
    "              metrics=[tf.keras.metrics.BinaryAccuracy(),\n",
    "                       tf.keras.metrics.Recall(),tf.keras.metrics.Precision()])\n",
    "print('Model Compiled')"
   ]
  },
  {
   "cell_type": "code",
   "execution_count": 33,
   "metadata": {},
   "outputs": [
    {
     "name": "stdout",
     "output_type": "stream",
     "text": [
      "Model: \"sequential_2\"\n",
      "_________________________________________________________________\n",
      "Layer (type)                 Output Shape              Param #   \n",
      "=================================================================\n",
      "conv2d_3 (Conv2D)            (None, 2998, 58, 12)      120       \n",
      "_________________________________________________________________\n",
      "max_pooling2d_3 (MaxPooling2 (None, 999, 58, 12)       0         \n",
      "_________________________________________________________________\n",
      "conv2d_4 (Conv2D)            (None, 197, 58, 10)       1810      \n",
      "_________________________________________________________________\n",
      "max_pooling2d_4 (MaxPooling2 (None, 16, 58, 10)        0         \n",
      "_________________________________________________________________\n",
      "batch_normalization_4 (Batch (None, 16, 58, 10)        40        \n",
      "_________________________________________________________________\n",
      "batch_normalization_5 (Batch (None, 16, 58, 10)        40        \n",
      "_________________________________________________________________\n",
      "flatten_2 (Flatten)          (None, 9280)              0         \n",
      "_________________________________________________________________\n",
      "dense_10 (Dense)             (None, 128)               1187968   \n",
      "_________________________________________________________________\n",
      "batch_normalization_6 (Batch (None, 128)               512       \n",
      "_________________________________________________________________\n",
      "dropout_4 (Dropout)          (None, 128)               0         \n",
      "_________________________________________________________________\n",
      "dense_11 (Dense)             (None, 128)               16512     \n",
      "_________________________________________________________________\n",
      "dense_12 (Dense)             (None, 128)               16512     \n",
      "_________________________________________________________________\n",
      "dense_13 (Dense)             (None, 128)               16512     \n",
      "_________________________________________________________________\n",
      "dense_14 (Dense)             (None, 128)               16512     \n",
      "_________________________________________________________________\n",
      "dense_15 (Dense)             (None, 128)               16512     \n",
      "_________________________________________________________________\n",
      "dropout_5 (Dropout)          (None, 128)               0         \n",
      "_________________________________________________________________\n",
      "dense_16 (Dense)             (None, 32)                4128      \n",
      "_________________________________________________________________\n",
      "dropout_6 (Dropout)          (None, 32)                0         \n",
      "_________________________________________________________________\n",
      "dense_17 (Dense)             (None, 12)                396       \n",
      "_________________________________________________________________\n",
      "dense_18 (Dense)             (None, 1)                 13        \n",
      "=================================================================\n",
      "Total params: 1,277,587\n",
      "Trainable params: 1,277,291\n",
      "Non-trainable params: 296\n",
      "_________________________________________________________________\n"
     ]
    }
   ],
   "source": [
    "model.summary()"
   ]
  },
  {
   "cell_type": "code",
   "execution_count": null,
   "metadata": {
    "collapsed": true
   },
   "outputs": [],
   "source": []
  },
  {
   "cell_type": "code",
   "execution_count": 43,
   "metadata": {},
   "outputs": [
    {
     "data": {
      "text/plain": [
       "(381,)"
      ]
     },
     "execution_count": 43,
     "metadata": {},
     "output_type": "execute_result"
    }
   ],
   "source": [
    "y_val.shape"
   ]
  },
  {
   "cell_type": "code",
   "execution_count": null,
   "metadata": {
    "scrolled": true
   },
   "outputs": [
    {
     "name": "stdout",
     "output_type": "stream",
     "text": [
      "calling len\n",
      "calling len\n",
      "calling len\n",
      "Epoch 1/100\n",
      "95/95 [==============================] - 71s 745ms/step - loss: 0.6841 - binary_accuracy: 0.5155 - recall_3: 0.6577 - precision_3: 0.5300 - val_loss: 0.7577 - val_binary_accuracy: 0.5167 - val_recall_3: 0.6763 - val_precision_3: 0.5196\n",
      "Epoch 2/100\n",
      "calling len\n",
      "Epoch 1/100\n",
      "94/95 [============================>.] - ETA: 0s - loss: 0.6318 - binary_accuracy: 0.5516 - recall_3: 0.6552 - precision_3: 0.5491calling len\n",
      "Epoch 1/100\n",
      "95/95 [==============================] - 70s 740ms/step - loss: 0.6314 - binary_accuracy: 0.5518 - recall_3: 0.6549 - precision_3: 0.5493 - val_loss: 1.4118 - val_binary_accuracy: 0.5655 - val_recall_3: 0.6424 - val_precision_3: 0.5616\n",
      "Epoch 3/100\n",
      " 1/95 [..............................] - ETA: 50s - loss: 0.6279 - binary_accuracy: 0.5605 - recall_3: 0.6558 - precision_3: 0.5541calling len\n",
      "94/95 [============================>.] - ETA: 0s - loss: 0.5539 - binary_accuracy: 0.5884 - recall_3: 0.6545 - precision_3: 0.5831calling len\n",
      "95/95 [==============================] - 72s 761ms/step - loss: 0.5541 - binary_accuracy: 0.5886 - recall_3: 0.6545 - precision_3: 0.5833 - val_loss: 0.8788 - val_binary_accuracy: 0.6043 - val_recall_3: 0.6351 - val_precision_3: 0.6025\n",
      "Epoch 4/100\n",
      " 2/95 [..............................] - ETA: 51s - loss: 0.6551 - binary_accuracy: 0.6022 - recall_3: 0.6251 - precision_3: 0.6016calling len\n",
      "94/95 [============================>.] - ETA: 0s - loss: 0.3856 - binary_accuracy: 0.6298 - recall_3: 0.6455 - precision_3: 0.6302calling len\n",
      "95/95 [==============================] - 72s 754ms/step - loss: 0.3857 - binary_accuracy: 0.6301 - recall_3: 0.6457 - precision_3: 0.6305 - val_loss: 1.2127 - val_binary_accuracy: 0.6490 - val_recall_3: 0.6700 - val_precision_3: 0.6477\n",
      "Epoch 5/100\n",
      " 3/95 [..............................] - ETA: 50s - loss: 0.6707 - binary_accuracy: 0.6444 - recall_3: 0.6742 - precision_3: 0.6398calling len\n",
      "94/95 [============================>.] - ETA: 0s - loss: 0.2834 - binary_accuracy: 0.6668 - recall_3: 0.6964 - precision_3: 0.6613calling len\n",
      "95/95 [==============================] - 74s 780ms/step - loss: 0.2833 - binary_accuracy: 0.6670 - recall_3: 0.6966 - precision_3: 0.6615 - val_loss: 2.8480 - val_binary_accuracy: 0.6818 - val_recall_3: 0.7059 - val_precision_3: 0.6773\n",
      "Epoch 6/100\n",
      " 4/95 [>.............................] - ETA: 48s - loss: 0.3758 - binary_accuracy: 0.6800 - recall_3: 0.6987 - precision_3: 0.6766calling len\n",
      "81/95 [========================>.....] - ETA: 9s - loss: 0.2338 - binary_accuracy: 0.6952 - recall_3: 0.7141 - precision_3: 0.6919"
     ]
    }
   ],
   "source": [
    "model_history=model.fit_generator(generator=training_batch_generator,\n",
    "                    steps_per_epoch=int(1523//batch_size),\n",
    "                    epochs=100,\n",
    "                    verbose=1,\n",
    "                    validation_data=validation_batch_generator,\n",
    "                    validation_steps=int(381//batch_size),\n",
    "                    use_multiprocessing=True,\n",
    "                    workers=10)\n",
    "model.save(\"model_save12.hdf5\")\n",
    "\n",
    "with open('model_history_save12.pkl', 'wb') as file_pi:\n",
    "    pickle.dump(model_history, file_pi)"
   ]
  },
  {
   "cell_type": "code",
   "execution_count": null,
   "metadata": {},
   "outputs": [],
   "source": [
    "model = Sequential()\n",
    "\n",
    "\n",
    "\n",
    "model.add(Conv2D(filters=12,kernel_size=(3,3),strides=(1,3),input_shape=input_shape,activation ='relu'\n",
    "                          ,padding='valid'))\n",
    "# model.add(Conv2D(filters=12,kernel_size=(10,1),strides=(4,1),input_shape=input_shape,activation ='relu'\n",
    "#                           ,padding='valid'))\n",
    "model.add(MaxPooling2D(pool_size=(3,1)))\n",
    "\n",
    "model.add(Conv2D(filters=10,kernel_size=(15,1),strides=(5,1),activation ='relu'\n",
    "                          ,padding='valid'))\n",
    "model.add(MaxPooling2D(pool_size=(3,1))) #used to be 12\n",
    "model.add(BatchNormalization(axis=3))\n",
    "\n",
    "# model.add(Conv2D(filters=20,kernel_size=(6,1),strides=(3,1)\n",
    "#                           ,activation ='relu',padding='valid'))\n",
    "\n",
    "# model.add(SeparableConv2D(filters=2,kernel_size=(10,1),padding='valid',activation ='relu'))\n",
    "# model.add(MaxPooling2D(pool_size=(3,3)))\n",
    "\n",
    "# model.add(SeparableConv2D(filters=32,kernel_size=(10,3),padding='valid',activation ='relu'))\n",
    "#,input_shape=input_shape,activation ='relu'))\n",
    "# model.add(BatchNormalization(axis=3))\n",
    "# model.add(SeparableConv2D(filters=32,kernel_size=(10,3),padding='valid'))\n",
    "#,input_shape=input_shape,activation ='relu'))\n",
    "# model.add(MaxPooling2D(pool_size=(3,3)))\n",
    "# model.add(Dropout(0.25))\n",
    "\n",
    "model.add(BatchNormalization())\n",
    "model.add(Flatten())\n",
    "model.add(Dense(128, activation = \"relu\")) #Fully connected layer\n",
    "model.add(BatchNormalization())\n",
    "model.add(Dropout(0.2))\n",
    "\n",
    "\n",
    "model.add(Dense(128, activation = \"relu\")) #Fully connected layer\n",
    "# model.add(BatchNormalization())\n",
    "# model.add(Dropout(0.2))\n",
    "model.add(Dense(128, activation = \"relu\")) #Fully connected layer\n",
    "model.add(Dense(128, activation = \"relu\")) #Fully connected layer\n",
    "\n",
    "model.add(Dense(128, activation = \"relu\")) #Fully connected layer\n",
    "# model.add(BatchNormalization())\n",
    "# model.add(Dropout(0.2))\n",
    "model.add(Dense(128, activation = \"relu\")) #Fully connected layer\n",
    "# model.add(BatchNormalization())\n",
    "model.add(Dropout(0.2))\n",
    "model.add(Dense(32, activation = \"relu\")) #Fully connected layer\n",
    "# model.add(BatchNormalization())\n",
    "model.add(Dropout(0.2))\n",
    "# model.add(Dense(64, activation = \"relu\")) #Fully connected layer\n",
    "# model.add(BatchNormalization())\n",
    "# model.add(Dropout(0.4))\n",
    "\n",
    "\n",
    "opt = keras.optimizers.Adam(learning_rate=0.003)\n",
    "# opt = tf.keras.optimizers.SGD(learning_rate=0.1)\n",
    "model.add(Dense(12,activation='relu'))\n",
    "model.add(Dense(1,activation='sigmoid'))\n",
    "model.compile(loss='binary_crossentropy', optimizer=opt,\n",
    "              metrics=[tf.keras.metrics.BinaryAccuracy(),\n",
    "                       tf.keras.metrics.Recall(),tf.keras.metrics.Precision()])\n",
    "print('Model Compiled')\n",
    "\n",
    "model_history=model.fit_generator(generator=training_batch_generator,\n",
    "                    steps_per_epoch=int(1523//batch_size),\n",
    "                    epochs=100,\n",
    "                    verbose=1,\n",
    "                    validation_data=validation_batch_generator,\n",
    "                    validation_steps=int(381//batch_size),\n",
    "                    use_multiprocessing=True,\n",
    "                    workers=10)\n",
    "model.save(\"model_save3.hdf5\")\n",
    "\n",
    "with open('model_history_save3.pkl', 'wb') as file_pi:\n",
    "    pickle.dump(model_history, file_pi)"
   ]
  },
  {
   "cell_type": "code",
   "execution_count": 14,
   "metadata": {},
   "outputs": [],
   "source": [
    "aa='honhon'\n",
    "with open('model_history_save_test1.pkl', 'wb') as file_pi:\n",
    "    pickle.dump(aa, file_pi)\n"
   ]
  },
  {
   "cell_type": "code",
   "execution_count": 112,
   "metadata": {},
   "outputs": [
    {
     "data": {
      "text/plain": [
       "[<matplotlib.lines.Line2D at 0x7fee0cabb898>]"
      ]
     },
     "execution_count": 112,
     "metadata": {},
     "output_type": "execute_result"
    },
    {
     "data": {
      "image/png": "[encoded data removed]",
      "text/plain": [
       "<Figure size 432x288 with 1 Axes>"
      ]
     },
     "metadata": {},
     "output_type": "display_data"
    }
   ],
   "source": [
    "plt.plot(model_history.epoch,model_history.history['val_precision_12'])\n",
    "plt.plot(model_history.epoch,model_history.history['val_recall_12'])"
   ]
  },
  {
   "cell_type": "code",
   "execution_count": 113,
   "metadata": {},
   "outputs": [
    {
     "data": {
      "text/plain": [
       "[<matplotlib.lines.Line2D at 0x7fee03769cf8>]"
      ]
     },
     "execution_count": 113,
     "metadata": {},
     "output_type": "execute_result"
    },
    {
     "data": {
      "image/png": "[encoded data removed]",
      "text/plain": [
       "<Figure size 432x288 with 1 Axes>"
      ]
     },
     "metadata": {},
     "output_type": "display_data"
    }
   ],
   "source": [
    "plt.plot(model_history.epoch,model_history.history['loss'])"
   ]
  },
  {
   "cell_type": "code",
   "execution_count": 111,
   "metadata": {},
   "outputs": [
    {
     "data": {
      "text/plain": [
       "{'binary_accuracy': [0.5025586, 0.5142567, 0.5543959, 0.5916083, 0.6332656],\n",
       " 'loss': [0.6976399206925324,\n",
       "  0.6769760863703453,\n",
       "  0.6011156842814587,\n",
       "  0.5327409149392655,\n",
       "  0.357749856599523],\n",
       " 'precision_12': [0.49823308, 0.520555, 0.5602081, 0.59444386, 0.6368379],\n",
       " 'recall_12': [0.34750676, 0.59706193, 0.5620676, 0.6048332, 0.6345294],\n",
       " 'val_binary_accuracy': [0.49603280425071716,\n",
       "  0.5308449268341064,\n",
       "  0.5664828419685364,\n",
       "  0.6119688749313354,\n",
       "  0.6476745009422302],\n",
       " 'val_loss': [0.6932775974273682,\n",
       "  0.7275683283805847,\n",
       "  1.2046637535095215,\n",
       "  1.076835036277771,\n",
       "  1.2294230461120605],\n",
       " 'val_precision_12': [0.5009819269180298,\n",
       "  0.5338302254676819,\n",
       "  0.5691888928413391,\n",
       "  0.6131569743156433,\n",
       "  0.6537613868713379],\n",
       " 'val_recall_12': [0.6155487298965454,\n",
       "  0.5563664436340332,\n",
       "  0.5784309506416321,\n",
       "  0.6217253804206848,\n",
       "  0.6399308443069458]}"
      ]
     },
     "execution_count": 111,
     "metadata": {},
     "output_type": "execute_result"
    }
   ],
   "source": [
    "model_history.history\n"
   ]
  },
  {
   "cell_type": "code",
   "execution_count": 15,
   "metadata": {
    "scrolled": true
   },
   "outputs": [],
   "source": [
    "with open(\"model_history_save12_3.pkl\", \"rb\") as f:\n",
    "    model_history1 = pickle.load(f)\n",
    "    \n",
    "    \n"
   ]
  },
  {
   "cell_type": "code",
   "execution_count": 16,
   "metadata": {},
   "outputs": [
    {
     "data": {
      "text/plain": [
       "dict_keys(['val_loss', 'val_binary_accuracy', 'val_recall', 'val_precision', 'loss', 'binary_accuracy', 'recall', 'precision'])"
      ]
     },
     "execution_count": 16,
     "metadata": {},
     "output_type": "execute_result"
    }
   ],
   "source": [
    "model_history1.keys()"
   ]
  },
  {
   "cell_type": "code",
   "execution_count": 25,
   "metadata": {},
   "outputs": [
    {
     "data": {
      "text/plain": [
       "[<matplotlib.lines.Line2D at 0x7f9e083f06d8>]"
      ]
     },
     "execution_count": 25,
     "metadata": {},
     "output_type": "execute_result"
    },
    {
     "data": {
      "image/png": "[encoded data removed]",
      "text/plain": [
       "<Figure size 432x288 with 1 Axes>"
      ]
     },
     "metadata": {},
     "output_type": "display_data"
    }
   ],
   "source": [
    "plt.plot(model_history1['binary_accuracy'])\n",
    "plt.plot(model_history1['val_binary_accuracy'])\n"
   ]
  },
  {
   "cell_type": "code",
   "execution_count": 19,
   "metadata": {},
   "outputs": [
    {
     "data": {
      "text/plain": [
       "[<matplotlib.lines.Line2D at 0x7f9e30037fd0>]"
      ]
     },
     "execution_count": 19,
     "metadata": {},
     "output_type": "execute_result"
    },
    {
     "data": {
      "image/png": "[encoded data removed]",
      "text/plain": [
       "<Figure size 432x288 with 1 Axes>"
      ]
     },
     "metadata": {},
     "output_type": "display_data"
    }
   ],
   "source": [
    "plt.plot(model_history1['binary_accuracy'])\n",
    "plt.plot(model_history1['val_binary_accuracy'])\n"
   ]
  },
  {
   "cell_type": "code",
   "execution_count": 21,
   "metadata": {},
   "outputs": [],
   "source": [
    "def f1score(P,R):\n",
    "    P=np.array(P)\n",
    "    R=np.array(R)\n",
    "    return 2*P*R/(P+R)"
   ]
  },
  {
   "cell_type": "code",
   "execution_count": 26,
   "metadata": {},
   "outputs": [
    {
     "data": {
      "text/plain": [
       "[<matplotlib.lines.Line2D at 0x7f9e0837c320>]"
      ]
     },
     "execution_count": 26,
     "metadata": {},
     "output_type": "execute_result"
    },
    {
     "data": {
      "image/png": "[encoded data removed]",
      "text/plain": [
       "<Figure size 432x288 with 1 Axes>"
      ]
     },
     "metadata": {},
     "output_type": "display_data"
    }
   ],
   "source": [
    "plt.plot(f1score(model_history1['precision'],model_history1['recall']))\n",
    "plt.plot(f1score(model_history1['val_precision'],model_history1['val_recall']))"
   ]
  },
  {
   "cell_type": "code",
   "execution_count": 31,
   "metadata": {},
   "outputs": [
    {
     "data": {
      "text/plain": [
       "<matplotlib.legend.Legend at 0x7f9e08133518>"
      ]
     },
     "execution_count": 31,
     "metadata": {},
     "output_type": "execute_result"
    },
    {
     "data": {
      "image/png": "[encoded data removed]",
      "text/plain": [
       "<Figure size 432x288 with 1 Axes>"
      ]
     },
     "metadata": {},
     "output_type": "display_data"
    }
   ],
   "source": [
    "plt.plot(model_history1['recall'])\n",
    "plt.plot(model_history1['precision'])\n",
    "plt.plot(model_history1['val_recall'])\n",
    "plt.plot(model_history1['val_precision'])\n",
    "plt.legend(['recall','precision','val_recall','val_precision'])\n"
   ]
  },
  {
   "cell_type": "code",
   "execution_count": 30,
   "metadata": {},
   "outputs": [
    {
     "data": {
      "text/plain": [
       "[<matplotlib.lines.Line2D at 0x7f9e081e7f60>]"
      ]
     },
     "execution_count": 30,
     "metadata": {},
     "output_type": "execute_result"
    },
    {
     "data": {
      "image/png": "[encoded data removed]",
      "text/plain": [
       "<Figure size 432x288 with 1 Axes>"
      ]
     },
     "metadata": {},
     "output_type": "display_data"
    }
   ],
   "source": [
    "plt.plot(model_history1['loss'])\n",
    "plt.plot(model_history1['val_loss'])\n"
   ]
  },
  {
   "cell_type": "code",
   "execution_count": 34,
   "metadata": {},
   "outputs": [
    {
     "ename": "OSError",
     "evalue": "Failed to interpret file 'model_history_save12.pkl' as a pickle",
     "output_type": "error",
     "traceback": [
      "\u001b[0;31m---------------------------------------------------------------------------\u001b[0m",
      "\u001b[0;31mValueError\u001b[0m                                Traceback (most recent call last)",
      "\u001b[0;32m/home/peter/.local/lib/python3.6/site-packages/numpy/lib/npyio.py\u001b[0m in \u001b[0;36mload\u001b[0;34m(file, mmap_mode, allow_pickle, fix_imports, encoding)\u001b[0m\n\u001b[1;32m    459\u001b[0m             \u001b[0;32mtry\u001b[0m\u001b[0;34m:\u001b[0m\u001b[0;34m\u001b[0m\u001b[0;34m\u001b[0m\u001b[0m\n\u001b[0;32m--> 460\u001b[0;31m                 \u001b[0;32mreturn\u001b[0m \u001b[0mpickle\u001b[0m\u001b[0;34m.\u001b[0m\u001b[0mload\u001b[0m\u001b[0;34m(\u001b[0m\u001b[0mfid\u001b[0m\u001b[0;34m,\u001b[0m \u001b[0;34m**\u001b[0m\u001b[0mpickle_kwargs\u001b[0m\u001b[0;34m)\u001b[0m\u001b[0;34m\u001b[0m\u001b[0;34m\u001b[0m\u001b[0m\n\u001b[0m\u001b[1;32m    461\u001b[0m             \u001b[0;32mexcept\u001b[0m \u001b[0mException\u001b[0m\u001b[0;34m:\u001b[0m\u001b[0;34m\u001b[0m\u001b[0;34m\u001b[0m\u001b[0m\n",
      "\u001b[0;32m/home/peter/.local/lib/python3.6/site-packages/keras/engine/network.py\u001b[0m in \u001b[0;36m__setstate__\u001b[0;34m(self, state)\u001b[0m\n\u001b[1;32m   1333\u001b[0m     \u001b[0;32mdef\u001b[0m \u001b[0m__setstate__\u001b[0m\u001b[0;34m(\u001b[0m\u001b[0mself\u001b[0m\u001b[0;34m,\u001b[0m \u001b[0mstate\u001b[0m\u001b[0;34m)\u001b[0m\u001b[0;34m:\u001b[0m\u001b[0;34m\u001b[0m\u001b[0;34m\u001b[0m\u001b[0m\n\u001b[0;32m-> 1334\u001b[0;31m         \u001b[0mmodel\u001b[0m \u001b[0;34m=\u001b[0m \u001b[0msaving\u001b[0m\u001b[0;34m.\u001b[0m\u001b[0munpickle_model\u001b[0m\u001b[0;34m(\u001b[0m\u001b[0mstate\u001b[0m\u001b[0;34m)\u001b[0m\u001b[0;34m\u001b[0m\u001b[0;34m\u001b[0m\u001b[0m\n\u001b[0m\u001b[1;32m   1335\u001b[0m         \u001b[0mself\u001b[0m\u001b[0;34m.\u001b[0m\u001b[0m__dict__\u001b[0m\u001b[0;34m.\u001b[0m\u001b[0mupdate\u001b[0m\u001b[0;34m(\u001b[0m\u001b[0mmodel\u001b[0m\u001b[0;34m.\u001b[0m\u001b[0m__dict__\u001b[0m\u001b[0;34m)\u001b[0m\u001b[0;34m\u001b[0m\u001b[0;34m\u001b[0m\u001b[0m\n",
      "\u001b[0;32m/home/peter/.local/lib/python3.6/site-packages/keras/engine/saving.py\u001b[0m in \u001b[0;36munpickle_model\u001b[0;34m(state)\u001b[0m\n\u001b[1;32m    603\u001b[0m     \u001b[0mh5dict\u001b[0m \u001b[0;34m=\u001b[0m \u001b[0mH5Dict\u001b[0m\u001b[0;34m(\u001b[0m\u001b[0mstate\u001b[0m\u001b[0;34m,\u001b[0m \u001b[0mmode\u001b[0m\u001b[0;34m=\u001b[0m\u001b[0;34m'r'\u001b[0m\u001b[0;34m)\u001b[0m\u001b[0;34m\u001b[0m\u001b[0;34m\u001b[0m\u001b[0m\n\u001b[0;32m--> 604\u001b[0;31m     \u001b[0;32mreturn\u001b[0m \u001b[0m_deserialize_model\u001b[0m\u001b[0;34m(\u001b[0m\u001b[0mh5dict\u001b[0m\u001b[0;34m)\u001b[0m\u001b[0;34m\u001b[0m\u001b[0;34m\u001b[0m\u001b[0m\n\u001b[0m\u001b[1;32m    605\u001b[0m \u001b[0;34m\u001b[0m\u001b[0m\n",
      "\u001b[0;32m/home/peter/.local/lib/python3.6/site-packages/keras/engine/saving.py\u001b[0m in \u001b[0;36m_deserialize_model\u001b[0;34m(h5dict, custom_objects, compile)\u001b[0m\n\u001b[1;32m    368\u001b[0m                       \u001b[0mloss_weights\u001b[0m\u001b[0;34m=\u001b[0m\u001b[0mloss_weights\u001b[0m\u001b[0;34m,\u001b[0m\u001b[0;34m\u001b[0m\u001b[0;34m\u001b[0m\u001b[0m\n\u001b[0;32m--> 369\u001b[0;31m                       sample_weight_mode=sample_weight_mode)\n\u001b[0m\u001b[1;32m    370\u001b[0m \u001b[0;34m\u001b[0m\u001b[0m\n",
      "\u001b[0;32m/home/peter/.local/lib/python3.6/site-packages/keras/backend/tensorflow_backend.py\u001b[0m in \u001b[0;36msymbolic_fn_wrapper\u001b[0;34m(*args, **kwargs)\u001b[0m\n\u001b[1;32m     74\u001b[0m             \u001b[0;32mwith\u001b[0m \u001b[0mget_graph\u001b[0m\u001b[0;34m(\u001b[0m\u001b[0;34m)\u001b[0m\u001b[0;34m.\u001b[0m\u001b[0mas_default\u001b[0m\u001b[0;34m(\u001b[0m\u001b[0;34m)\u001b[0m\u001b[0;34m:\u001b[0m\u001b[0;34m\u001b[0m\u001b[0;34m\u001b[0m\u001b[0m\n\u001b[0;32m---> 75\u001b[0;31m                 \u001b[0;32mreturn\u001b[0m \u001b[0mfunc\u001b[0m\u001b[0;34m(\u001b[0m\u001b[0;34m*\u001b[0m\u001b[0margs\u001b[0m\u001b[0;34m,\u001b[0m \u001b[0;34m**\u001b[0m\u001b[0mkwargs\u001b[0m\u001b[0;34m)\u001b[0m\u001b[0;34m\u001b[0m\u001b[0;34m\u001b[0m\u001b[0m\n\u001b[0m\u001b[1;32m     76\u001b[0m         \u001b[0;32melse\u001b[0m\u001b[0;34m:\u001b[0m\u001b[0;34m\u001b[0m\u001b[0;34m\u001b[0m\u001b[0m\n",
      "\u001b[0;32m/home/peter/.local/lib/python3.6/site-packages/keras/engine/training.py\u001b[0m in \u001b[0;36mcompile\u001b[0;34m(self, optimizer, loss, metrics, loss_weights, sample_weight_mode, weighted_metrics, target_tensors, **kwargs)\u001b[0m\n\u001b[1;32m    210\u001b[0m         \u001b[0;31m# Save all metric attributes per output of the model.\u001b[0m\u001b[0;34m\u001b[0m\u001b[0;34m\u001b[0m\u001b[0;34m\u001b[0m\u001b[0m\n\u001b[0;32m--> 211\u001b[0;31m         \u001b[0mself\u001b[0m\u001b[0;34m.\u001b[0m\u001b[0m_cache_output_metric_attributes\u001b[0m\u001b[0;34m(\u001b[0m\u001b[0mmetrics\u001b[0m\u001b[0;34m,\u001b[0m \u001b[0mweighted_metrics\u001b[0m\u001b[0;34m)\u001b[0m\u001b[0;34m\u001b[0m\u001b[0;34m\u001b[0m\u001b[0m\n\u001b[0m\u001b[1;32m    212\u001b[0m \u001b[0;34m\u001b[0m\u001b[0m\n",
      "\u001b[0;32m/home/peter/.local/lib/python3.6/site-packages/keras/engine/training.py\u001b[0m in \u001b[0;36m_cache_output_metric_attributes\u001b[0;34m(self, metrics, weighted_metrics)\u001b[0m\n\u001b[1;32m    737\u001b[0m         self._per_output_metrics = training_utils.collect_per_output_metric_info(\n\u001b[0;32m--> 738\u001b[0;31m             metrics, self.output_names, output_shapes, self.loss_functions)\n\u001b[0m\u001b[1;32m    739\u001b[0m         self._per_output_weighted_metrics = (\n",
      "\u001b[0;32m/home/peter/.local/lib/python3.6/site-packages/keras/engine/training_utils.py\u001b[0m in \u001b[0;36mcollect_per_output_metric_info\u001b[0;34m(metrics, output_names, output_shapes, loss_fns, is_weighted)\u001b[0m\n\u001b[1;32m    940\u001b[0m         \u001b[0;32mfor\u001b[0m \u001b[0mmetric\u001b[0m \u001b[0;32min\u001b[0m \u001b[0mmetrics\u001b[0m\u001b[0;34m:\u001b[0m\u001b[0;34m\u001b[0m\u001b[0;34m\u001b[0m\u001b[0m\n\u001b[0;32m--> 941\u001b[0;31m             \u001b[0mmetric_name\u001b[0m \u001b[0;34m=\u001b[0m \u001b[0mget_metric_name\u001b[0m\u001b[0;34m(\u001b[0m\u001b[0mmetric\u001b[0m\u001b[0;34m,\u001b[0m \u001b[0mis_weighted\u001b[0m\u001b[0;34m)\u001b[0m\u001b[0;34m\u001b[0m\u001b[0;34m\u001b[0m\u001b[0m\n\u001b[0m\u001b[1;32m    942\u001b[0m             metric_fn = get_metric_function(\n",
      "\u001b[0;32m/home/peter/.local/lib/python3.6/site-packages/keras/engine/training_utils.py\u001b[0m in \u001b[0;36mget_metric_name\u001b[0;34m(metric, weighted)\u001b[0m\n\u001b[1;32m    968\u001b[0m \u001b[0;34m\u001b[0m\u001b[0m\n\u001b[0;32m--> 969\u001b[0;31m     \u001b[0mmetric\u001b[0m \u001b[0;34m=\u001b[0m \u001b[0mmetrics_module\u001b[0m\u001b[0;34m.\u001b[0m\u001b[0mget\u001b[0m\u001b[0;34m(\u001b[0m\u001b[0mmetric\u001b[0m\u001b[0;34m)\u001b[0m\u001b[0;34m\u001b[0m\u001b[0;34m\u001b[0m\u001b[0m\n\u001b[0m\u001b[1;32m    970\u001b[0m     \u001b[0;32mreturn\u001b[0m \u001b[0mmetric\u001b[0m\u001b[0;34m.\u001b[0m\u001b[0mname\u001b[0m \u001b[0;32mif\u001b[0m \u001b[0mhasattr\u001b[0m\u001b[0;34m(\u001b[0m\u001b[0mmetric\u001b[0m\u001b[0;34m,\u001b[0m \u001b[0;34m'name'\u001b[0m\u001b[0;34m)\u001b[0m \u001b[0;32melse\u001b[0m \u001b[0mmetric\u001b[0m\u001b[0;34m.\u001b[0m\u001b[0m__name__\u001b[0m\u001b[0;34m\u001b[0m\u001b[0;34m\u001b[0m\u001b[0m\n",
      "\u001b[0;32m/home/peter/.local/lib/python3.6/site-packages/keras/metrics.py\u001b[0m in \u001b[0;36mget\u001b[0;34m(identifier)\u001b[0m\n\u001b[1;32m   1975\u001b[0m         \u001b[0mconfig\u001b[0m \u001b[0;34m=\u001b[0m \u001b[0;34m{\u001b[0m\u001b[0;34m'class_name'\u001b[0m\u001b[0;34m:\u001b[0m \u001b[0mstr\u001b[0m\u001b[0;34m(\u001b[0m\u001b[0midentifier\u001b[0m\u001b[0;34m)\u001b[0m\u001b[0;34m,\u001b[0m \u001b[0;34m'config'\u001b[0m\u001b[0;34m:\u001b[0m \u001b[0;34m{\u001b[0m\u001b[0;34m}\u001b[0m\u001b[0;34m}\u001b[0m\u001b[0;34m\u001b[0m\u001b[0;34m\u001b[0m\u001b[0m\n\u001b[0;32m-> 1976\u001b[0;31m         \u001b[0;32mreturn\u001b[0m \u001b[0mdeserialize\u001b[0m\u001b[0;34m(\u001b[0m\u001b[0mconfig\u001b[0m\u001b[0;34m)\u001b[0m\u001b[0;34m\u001b[0m\u001b[0;34m\u001b[0m\u001b[0m\n\u001b[0m\u001b[1;32m   1977\u001b[0m     \u001b[0;32melif\u001b[0m \u001b[0misinstance\u001b[0m\u001b[0;34m(\u001b[0m\u001b[0midentifier\u001b[0m\u001b[0;34m,\u001b[0m \u001b[0msix\u001b[0m\u001b[0;34m.\u001b[0m\u001b[0mstring_types\u001b[0m\u001b[0;34m)\u001b[0m\u001b[0;34m:\u001b[0m\u001b[0;34m\u001b[0m\u001b[0;34m\u001b[0m\u001b[0m\n",
      "\u001b[0;32m/home/peter/.local/lib/python3.6/site-packages/keras/metrics.py\u001b[0m in \u001b[0;36mdeserialize\u001b[0;34m(config, custom_objects)\u001b[0m\n\u001b[1;32m   1969\u001b[0m                                     \u001b[0mcustom_objects\u001b[0m\u001b[0;34m=\u001b[0m\u001b[0mcustom_objects\u001b[0m\u001b[0;34m,\u001b[0m\u001b[0;34m\u001b[0m\u001b[0;34m\u001b[0m\u001b[0m\n\u001b[0;32m-> 1970\u001b[0;31m                                     printable_module_name='metric function')\n\u001b[0m\u001b[1;32m   1971\u001b[0m \u001b[0;34m\u001b[0m\u001b[0m\n",
      "\u001b[0;32m/home/peter/.local/lib/python3.6/site-packages/keras/utils/generic_utils.py\u001b[0m in \u001b[0;36mdeserialize_keras_object\u001b[0;34m(identifier, module_objects, custom_objects, printable_module_name)\u001b[0m\n\u001b[1;32m    139\u001b[0m                 raise ValueError('Unknown ' + printable_module_name +\n\u001b[0;32m--> 140\u001b[0;31m                                  ': ' + class_name)\n\u001b[0m\u001b[1;32m    141\u001b[0m         \u001b[0;32mif\u001b[0m \u001b[0mhasattr\u001b[0m\u001b[0;34m(\u001b[0m\u001b[0mcls\u001b[0m\u001b[0;34m,\u001b[0m \u001b[0;34m'from_config'\u001b[0m\u001b[0;34m)\u001b[0m\u001b[0;34m:\u001b[0m\u001b[0;34m\u001b[0m\u001b[0;34m\u001b[0m\u001b[0m\n",
      "\u001b[0;31mValueError\u001b[0m: Unknown metric function: {'class_name': 'BinaryAccuracy', 'config': {'name': 'binary_accuracy', 'dtype': 'float32', 'threshold': 0.5}}",
      "\nDuring handling of the above exception, another exception occurred:\n",
      "\u001b[0;31mOSError\u001b[0m                                   Traceback (most recent call last)",
      "\u001b[0;32m<ipython-input-34-53c858199d6d>\u001b[0m in \u001b[0;36m<module>\u001b[0;34m()\u001b[0m\n\u001b[0;32m----> 1\u001b[0;31m \u001b[0mitem\u001b[0m \u001b[0;34m=\u001b[0m \u001b[0mnp\u001b[0m\u001b[0;34m.\u001b[0m\u001b[0mload\u001b[0m\u001b[0;34m(\u001b[0m\u001b[0;34m\"model_history_save12.pkl\"\u001b[0m\u001b[0;34m,\u001b[0m\u001b[0mallow_pickle\u001b[0m\u001b[0;34m=\u001b[0m\u001b[0;32mTrue\u001b[0m\u001b[0;34m)\u001b[0m\u001b[0;34m.\u001b[0m\u001b[0mitem\u001b[0m\u001b[0;34m(\u001b[0m\u001b[0;34m)\u001b[0m\u001b[0;34m\u001b[0m\u001b[0;34m\u001b[0m\u001b[0m\n\u001b[0m",
      "\u001b[0;32m/home/peter/.local/lib/python3.6/site-packages/numpy/lib/npyio.py\u001b[0m in \u001b[0;36mload\u001b[0;34m(file, mmap_mode, allow_pickle, fix_imports, encoding)\u001b[0m\n\u001b[1;32m    461\u001b[0m             \u001b[0;32mexcept\u001b[0m \u001b[0mException\u001b[0m\u001b[0;34m:\u001b[0m\u001b[0;34m\u001b[0m\u001b[0;34m\u001b[0m\u001b[0m\n\u001b[1;32m    462\u001b[0m                 raise IOError(\n\u001b[0;32m--> 463\u001b[0;31m                     \"Failed to interpret file %s as a pickle\" % repr(file))\n\u001b[0m\u001b[1;32m    464\u001b[0m     \u001b[0;32mfinally\u001b[0m\u001b[0;34m:\u001b[0m\u001b[0;34m\u001b[0m\u001b[0;34m\u001b[0m\u001b[0m\n\u001b[1;32m    465\u001b[0m         \u001b[0;32mif\u001b[0m \u001b[0mown_fid\u001b[0m\u001b[0;34m:\u001b[0m\u001b[0;34m\u001b[0m\u001b[0;34m\u001b[0m\u001b[0m\n",
      "\u001b[0;31mOSError\u001b[0m: Failed to interpret file 'model_history_save12.pkl' as a pickle"
     ]
    }
   ],
   "source": [
    "item = np.load(\"model_history_save12.pkl\",allow_pickle=True).item()\n"
   ]
  },
  {
   "cell_type": "code",
   "execution_count": null,
   "metadata": {},
   "outputs": [],
   "source": []
  },
  {
   "cell_type": "code",
   "execution_count": 82,
   "metadata": {},
   "outputs": [
    {
     "ename": "ValueError",
     "evalue": "Unknown metric function: {'class_name': 'BinaryAccuracy', 'config': {'name': 'binary_accuracy', 'dtype': 'float32', 'threshold': 0.5}}",
     "output_type": "error",
     "traceback": [
      "\u001b[0;31m---------------------------------------------------------------------------\u001b[0m",
      "\u001b[0;31mValueError\u001b[0m                                Traceback (most recent call last)",
      "\u001b[0;32m<ipython-input-82-b449eea859d0>\u001b[0m in \u001b[0;36m<module>\u001b[0;34m()\u001b[0m\n\u001b[0;32m----> 1\u001b[0;31m \u001b[0mmodel1\u001b[0m \u001b[0;34m=\u001b[0m \u001b[0mkeras\u001b[0m\u001b[0;34m.\u001b[0m\u001b[0mmodels\u001b[0m\u001b[0;34m.\u001b[0m\u001b[0mload_model\u001b[0m\u001b[0;34m(\u001b[0m\u001b[0;34m'model_save12_2'\u001b[0m\u001b[0;34m)\u001b[0m\u001b[0;34m\u001b[0m\u001b[0;34m\u001b[0m\u001b[0m\n\u001b[0m",
      "\u001b[0;32m/home/peter/.local/lib/python3.6/site-packages/keras/engine/saving.py\u001b[0m in \u001b[0;36mload_wrapper\u001b[0;34m(*args, **kwargs)\u001b[0m\n\u001b[1;32m    490\u001b[0m                 \u001b[0mos\u001b[0m\u001b[0;34m.\u001b[0m\u001b[0mremove\u001b[0m\u001b[0;34m(\u001b[0m\u001b[0mtmp_filepath\u001b[0m\u001b[0;34m)\u001b[0m\u001b[0;34m\u001b[0m\u001b[0;34m\u001b[0m\u001b[0m\n\u001b[1;32m    491\u001b[0m             \u001b[0;32mreturn\u001b[0m \u001b[0mres\u001b[0m\u001b[0;34m\u001b[0m\u001b[0;34m\u001b[0m\u001b[0m\n\u001b[0;32m--> 492\u001b[0;31m         \u001b[0;32mreturn\u001b[0m \u001b[0mload_function\u001b[0m\u001b[0;34m(\u001b[0m\u001b[0;34m*\u001b[0m\u001b[0margs\u001b[0m\u001b[0;34m,\u001b[0m \u001b[0;34m**\u001b[0m\u001b[0mkwargs\u001b[0m\u001b[0;34m)\u001b[0m\u001b[0;34m\u001b[0m\u001b[0;34m\u001b[0m\u001b[0m\n\u001b[0m\u001b[1;32m    493\u001b[0m \u001b[0;34m\u001b[0m\u001b[0m\n\u001b[1;32m    494\u001b[0m     \u001b[0;32mreturn\u001b[0m \u001b[0mload_wrapper\u001b[0m\u001b[0;34m\u001b[0m\u001b[0;34m\u001b[0m\u001b[0m\n",
      "\u001b[0;32m/home/peter/.local/lib/python3.6/site-packages/keras/engine/saving.py\u001b[0m in \u001b[0;36mload_model\u001b[0;34m(filepath, custom_objects, compile)\u001b[0m\n\u001b[1;32m    582\u001b[0m     \u001b[0;32mif\u001b[0m \u001b[0mH5Dict\u001b[0m\u001b[0;34m.\u001b[0m\u001b[0mis_supported_type\u001b[0m\u001b[0;34m(\u001b[0m\u001b[0mfilepath\u001b[0m\u001b[0;34m)\u001b[0m\u001b[0;34m:\u001b[0m\u001b[0;34m\u001b[0m\u001b[0;34m\u001b[0m\u001b[0m\n\u001b[1;32m    583\u001b[0m         \u001b[0;32mwith\u001b[0m \u001b[0mH5Dict\u001b[0m\u001b[0;34m(\u001b[0m\u001b[0mfilepath\u001b[0m\u001b[0;34m,\u001b[0m \u001b[0mmode\u001b[0m\u001b[0;34m=\u001b[0m\u001b[0;34m'r'\u001b[0m\u001b[0;34m)\u001b[0m \u001b[0;32mas\u001b[0m \u001b[0mh5dict\u001b[0m\u001b[0;34m:\u001b[0m\u001b[0;34m\u001b[0m\u001b[0;34m\u001b[0m\u001b[0m\n\u001b[0;32m--> 584\u001b[0;31m             \u001b[0mmodel\u001b[0m \u001b[0;34m=\u001b[0m \u001b[0m_deserialize_model\u001b[0m\u001b[0;34m(\u001b[0m\u001b[0mh5dict\u001b[0m\u001b[0;34m,\u001b[0m \u001b[0mcustom_objects\u001b[0m\u001b[0;34m,\u001b[0m \u001b[0mcompile\u001b[0m\u001b[0;34m)\u001b[0m\u001b[0;34m\u001b[0m\u001b[0;34m\u001b[0m\u001b[0m\n\u001b[0m\u001b[1;32m    585\u001b[0m     \u001b[0;32melif\u001b[0m \u001b[0mhasattr\u001b[0m\u001b[0;34m(\u001b[0m\u001b[0mfilepath\u001b[0m\u001b[0;34m,\u001b[0m \u001b[0;34m'write'\u001b[0m\u001b[0;34m)\u001b[0m \u001b[0;32mand\u001b[0m \u001b[0mcallable\u001b[0m\u001b[0;34m(\u001b[0m\u001b[0mfilepath\u001b[0m\u001b[0;34m.\u001b[0m\u001b[0mwrite\u001b[0m\u001b[0;34m)\u001b[0m\u001b[0;34m:\u001b[0m\u001b[0;34m\u001b[0m\u001b[0;34m\u001b[0m\u001b[0m\n\u001b[1;32m    586\u001b[0m         \u001b[0;32mdef\u001b[0m \u001b[0mload_function\u001b[0m\u001b[0;34m(\u001b[0m\u001b[0mh5file\u001b[0m\u001b[0;34m)\u001b[0m\u001b[0;34m:\u001b[0m\u001b[0;34m\u001b[0m\u001b[0;34m\u001b[0m\u001b[0m\n",
      "\u001b[0;32m/home/peter/.local/lib/python3.6/site-packages/keras/engine/saving.py\u001b[0m in \u001b[0;36m_deserialize_model\u001b[0;34m(h5dict, custom_objects, compile)\u001b[0m\n\u001b[1;32m    367\u001b[0m                       \u001b[0mweighted_metrics\u001b[0m\u001b[0;34m=\u001b[0m\u001b[0mweighted_metrics\u001b[0m\u001b[0;34m,\u001b[0m\u001b[0;34m\u001b[0m\u001b[0;34m\u001b[0m\u001b[0m\n\u001b[1;32m    368\u001b[0m                       \u001b[0mloss_weights\u001b[0m\u001b[0;34m=\u001b[0m\u001b[0mloss_weights\u001b[0m\u001b[0;34m,\u001b[0m\u001b[0;34m\u001b[0m\u001b[0;34m\u001b[0m\u001b[0m\n\u001b[0;32m--> 369\u001b[0;31m                       sample_weight_mode=sample_weight_mode)\n\u001b[0m\u001b[1;32m    370\u001b[0m \u001b[0;34m\u001b[0m\u001b[0m\n\u001b[1;32m    371\u001b[0m         \u001b[0;31m# Set optimizer weights.\u001b[0m\u001b[0;34m\u001b[0m\u001b[0;34m\u001b[0m\u001b[0;34m\u001b[0m\u001b[0m\n",
      "\u001b[0;32m/home/peter/.local/lib/python3.6/site-packages/keras/backend/tensorflow_backend.py\u001b[0m in \u001b[0;36msymbolic_fn_wrapper\u001b[0;34m(*args, **kwargs)\u001b[0m\n\u001b[1;32m     73\u001b[0m         \u001b[0;32mif\u001b[0m \u001b[0m_SYMBOLIC_SCOPE\u001b[0m\u001b[0;34m.\u001b[0m\u001b[0mvalue\u001b[0m\u001b[0;34m:\u001b[0m\u001b[0;34m\u001b[0m\u001b[0;34m\u001b[0m\u001b[0m\n\u001b[1;32m     74\u001b[0m             \u001b[0;32mwith\u001b[0m \u001b[0mget_graph\u001b[0m\u001b[0;34m(\u001b[0m\u001b[0;34m)\u001b[0m\u001b[0;34m.\u001b[0m\u001b[0mas_default\u001b[0m\u001b[0;34m(\u001b[0m\u001b[0;34m)\u001b[0m\u001b[0;34m:\u001b[0m\u001b[0;34m\u001b[0m\u001b[0;34m\u001b[0m\u001b[0m\n\u001b[0;32m---> 75\u001b[0;31m                 \u001b[0;32mreturn\u001b[0m \u001b[0mfunc\u001b[0m\u001b[0;34m(\u001b[0m\u001b[0;34m*\u001b[0m\u001b[0margs\u001b[0m\u001b[0;34m,\u001b[0m \u001b[0;34m**\u001b[0m\u001b[0mkwargs\u001b[0m\u001b[0;34m)\u001b[0m\u001b[0;34m\u001b[0m\u001b[0;34m\u001b[0m\u001b[0m\n\u001b[0m\u001b[1;32m     76\u001b[0m         \u001b[0;32melse\u001b[0m\u001b[0;34m:\u001b[0m\u001b[0;34m\u001b[0m\u001b[0;34m\u001b[0m\u001b[0m\n\u001b[1;32m     77\u001b[0m             \u001b[0;32mreturn\u001b[0m \u001b[0mfunc\u001b[0m\u001b[0;34m(\u001b[0m\u001b[0;34m*\u001b[0m\u001b[0margs\u001b[0m\u001b[0;34m,\u001b[0m \u001b[0;34m**\u001b[0m\u001b[0mkwargs\u001b[0m\u001b[0;34m)\u001b[0m\u001b[0;34m\u001b[0m\u001b[0;34m\u001b[0m\u001b[0m\n",
      "\u001b[0;32m/home/peter/.local/lib/python3.6/site-packages/keras/engine/training.py\u001b[0m in \u001b[0;36mcompile\u001b[0;34m(self, optimizer, loss, metrics, loss_weights, sample_weight_mode, weighted_metrics, target_tensors, **kwargs)\u001b[0m\n\u001b[1;32m    209\u001b[0m \u001b[0;34m\u001b[0m\u001b[0m\n\u001b[1;32m    210\u001b[0m         \u001b[0;31m# Save all metric attributes per output of the model.\u001b[0m\u001b[0;34m\u001b[0m\u001b[0;34m\u001b[0m\u001b[0;34m\u001b[0m\u001b[0m\n\u001b[0;32m--> 211\u001b[0;31m         \u001b[0mself\u001b[0m\u001b[0;34m.\u001b[0m\u001b[0m_cache_output_metric_attributes\u001b[0m\u001b[0;34m(\u001b[0m\u001b[0mmetrics\u001b[0m\u001b[0;34m,\u001b[0m \u001b[0mweighted_metrics\u001b[0m\u001b[0;34m)\u001b[0m\u001b[0;34m\u001b[0m\u001b[0;34m\u001b[0m\u001b[0m\n\u001b[0m\u001b[1;32m    212\u001b[0m \u001b[0;34m\u001b[0m\u001b[0m\n\u001b[1;32m    213\u001b[0m         \u001b[0;31m# Set metric attributes on model.\u001b[0m\u001b[0;34m\u001b[0m\u001b[0;34m\u001b[0m\u001b[0;34m\u001b[0m\u001b[0m\n",
      "\u001b[0;32m/home/peter/.local/lib/python3.6/site-packages/keras/engine/training.py\u001b[0m in \u001b[0;36m_cache_output_metric_attributes\u001b[0;34m(self, metrics, weighted_metrics)\u001b[0m\n\u001b[1;32m    736\u001b[0m                 \u001b[0moutput_shapes\u001b[0m\u001b[0;34m.\u001b[0m\u001b[0mappend\u001b[0m\u001b[0;34m(\u001b[0m\u001b[0mlist\u001b[0m\u001b[0;34m(\u001b[0m\u001b[0moutput\u001b[0m\u001b[0;34m.\u001b[0m\u001b[0mshape\u001b[0m\u001b[0;34m)\u001b[0m\u001b[0;34m)\u001b[0m\u001b[0;34m\u001b[0m\u001b[0;34m\u001b[0m\u001b[0m\n\u001b[1;32m    737\u001b[0m         self._per_output_metrics = training_utils.collect_per_output_metric_info(\n\u001b[0;32m--> 738\u001b[0;31m             metrics, self.output_names, output_shapes, self.loss_functions)\n\u001b[0m\u001b[1;32m    739\u001b[0m         self._per_output_weighted_metrics = (\n\u001b[1;32m    740\u001b[0m             training_utils.collect_per_output_metric_info(\n",
      "\u001b[0;32m/home/peter/.local/lib/python3.6/site-packages/keras/engine/training_utils.py\u001b[0m in \u001b[0;36mcollect_per_output_metric_info\u001b[0;34m(metrics, output_names, output_shapes, loss_fns, is_weighted)\u001b[0m\n\u001b[1;32m    939\u001b[0m         \u001b[0mmetrics_dict\u001b[0m \u001b[0;34m=\u001b[0m \u001b[0mOrderedDict\u001b[0m\u001b[0;34m(\u001b[0m\u001b[0;34m)\u001b[0m\u001b[0;34m\u001b[0m\u001b[0;34m\u001b[0m\u001b[0m\n\u001b[1;32m    940\u001b[0m         \u001b[0;32mfor\u001b[0m \u001b[0mmetric\u001b[0m \u001b[0;32min\u001b[0m \u001b[0mmetrics\u001b[0m\u001b[0;34m:\u001b[0m\u001b[0;34m\u001b[0m\u001b[0;34m\u001b[0m\u001b[0m\n\u001b[0;32m--> 941\u001b[0;31m             \u001b[0mmetric_name\u001b[0m \u001b[0;34m=\u001b[0m \u001b[0mget_metric_name\u001b[0m\u001b[0;34m(\u001b[0m\u001b[0mmetric\u001b[0m\u001b[0;34m,\u001b[0m \u001b[0mis_weighted\u001b[0m\u001b[0;34m)\u001b[0m\u001b[0;34m\u001b[0m\u001b[0;34m\u001b[0m\u001b[0m\n\u001b[0m\u001b[1;32m    942\u001b[0m             metric_fn = get_metric_function(\n\u001b[1;32m    943\u001b[0m                 metric, output_shape=output_shapes[i], loss_fn=loss_fns[i])\n",
      "\u001b[0;32m/home/peter/.local/lib/python3.6/site-packages/keras/engine/training_utils.py\u001b[0m in \u001b[0;36mget_metric_name\u001b[0;34m(metric, weighted)\u001b[0m\n\u001b[1;32m    967\u001b[0m         \u001b[0;32mreturn\u001b[0m \u001b[0mmetric\u001b[0m\u001b[0;34m\u001b[0m\u001b[0;34m\u001b[0m\u001b[0m\n\u001b[1;32m    968\u001b[0m \u001b[0;34m\u001b[0m\u001b[0m\n\u001b[0;32m--> 969\u001b[0;31m     \u001b[0mmetric\u001b[0m \u001b[0;34m=\u001b[0m \u001b[0mmetrics_module\u001b[0m\u001b[0;34m.\u001b[0m\u001b[0mget\u001b[0m\u001b[0;34m(\u001b[0m\u001b[0mmetric\u001b[0m\u001b[0;34m)\u001b[0m\u001b[0;34m\u001b[0m\u001b[0;34m\u001b[0m\u001b[0m\n\u001b[0m\u001b[1;32m    970\u001b[0m     \u001b[0;32mreturn\u001b[0m \u001b[0mmetric\u001b[0m\u001b[0;34m.\u001b[0m\u001b[0mname\u001b[0m \u001b[0;32mif\u001b[0m \u001b[0mhasattr\u001b[0m\u001b[0;34m(\u001b[0m\u001b[0mmetric\u001b[0m\u001b[0;34m,\u001b[0m \u001b[0;34m'name'\u001b[0m\u001b[0;34m)\u001b[0m \u001b[0;32melse\u001b[0m \u001b[0mmetric\u001b[0m\u001b[0;34m.\u001b[0m\u001b[0m__name__\u001b[0m\u001b[0;34m\u001b[0m\u001b[0;34m\u001b[0m\u001b[0m\n\u001b[1;32m    971\u001b[0m \u001b[0;34m\u001b[0m\u001b[0m\n",
      "\u001b[0;32m/home/peter/.local/lib/python3.6/site-packages/keras/metrics.py\u001b[0m in \u001b[0;36mget\u001b[0;34m(identifier)\u001b[0m\n\u001b[1;32m   1974\u001b[0m     \u001b[0;32mif\u001b[0m \u001b[0misinstance\u001b[0m\u001b[0;34m(\u001b[0m\u001b[0midentifier\u001b[0m\u001b[0;34m,\u001b[0m \u001b[0mdict\u001b[0m\u001b[0;34m)\u001b[0m\u001b[0;34m:\u001b[0m\u001b[0;34m\u001b[0m\u001b[0;34m\u001b[0m\u001b[0m\n\u001b[1;32m   1975\u001b[0m         \u001b[0mconfig\u001b[0m \u001b[0;34m=\u001b[0m \u001b[0;34m{\u001b[0m\u001b[0;34m'class_name'\u001b[0m\u001b[0;34m:\u001b[0m \u001b[0mstr\u001b[0m\u001b[0;34m(\u001b[0m\u001b[0midentifier\u001b[0m\u001b[0;34m)\u001b[0m\u001b[0;34m,\u001b[0m \u001b[0;34m'config'\u001b[0m\u001b[0;34m:\u001b[0m \u001b[0;34m{\u001b[0m\u001b[0;34m}\u001b[0m\u001b[0;34m}\u001b[0m\u001b[0;34m\u001b[0m\u001b[0;34m\u001b[0m\u001b[0m\n\u001b[0;32m-> 1976\u001b[0;31m         \u001b[0;32mreturn\u001b[0m \u001b[0mdeserialize\u001b[0m\u001b[0;34m(\u001b[0m\u001b[0mconfig\u001b[0m\u001b[0;34m)\u001b[0m\u001b[0;34m\u001b[0m\u001b[0;34m\u001b[0m\u001b[0m\n\u001b[0m\u001b[1;32m   1977\u001b[0m     \u001b[0;32melif\u001b[0m \u001b[0misinstance\u001b[0m\u001b[0;34m(\u001b[0m\u001b[0midentifier\u001b[0m\u001b[0;34m,\u001b[0m \u001b[0msix\u001b[0m\u001b[0;34m.\u001b[0m\u001b[0mstring_types\u001b[0m\u001b[0;34m)\u001b[0m\u001b[0;34m:\u001b[0m\u001b[0;34m\u001b[0m\u001b[0;34m\u001b[0m\u001b[0m\n\u001b[1;32m   1978\u001b[0m         \u001b[0;32mreturn\u001b[0m \u001b[0mdeserialize\u001b[0m\u001b[0;34m(\u001b[0m\u001b[0mstr\u001b[0m\u001b[0;34m(\u001b[0m\u001b[0midentifier\u001b[0m\u001b[0;34m)\u001b[0m\u001b[0;34m)\u001b[0m\u001b[0;34m\u001b[0m\u001b[0;34m\u001b[0m\u001b[0m\n",
      "\u001b[0;32m/home/peter/.local/lib/python3.6/site-packages/keras/metrics.py\u001b[0m in \u001b[0;36mdeserialize\u001b[0;34m(config, custom_objects)\u001b[0m\n\u001b[1;32m   1968\u001b[0m                                     \u001b[0mmodule_objects\u001b[0m\u001b[0;34m=\u001b[0m\u001b[0mglobals\u001b[0m\u001b[0;34m(\u001b[0m\u001b[0;34m)\u001b[0m\u001b[0;34m,\u001b[0m\u001b[0;34m\u001b[0m\u001b[0;34m\u001b[0m\u001b[0m\n\u001b[1;32m   1969\u001b[0m                                     \u001b[0mcustom_objects\u001b[0m\u001b[0;34m=\u001b[0m\u001b[0mcustom_objects\u001b[0m\u001b[0;34m,\u001b[0m\u001b[0;34m\u001b[0m\u001b[0;34m\u001b[0m\u001b[0m\n\u001b[0;32m-> 1970\u001b[0;31m                                     printable_module_name='metric function')\n\u001b[0m\u001b[1;32m   1971\u001b[0m \u001b[0;34m\u001b[0m\u001b[0m\n\u001b[1;32m   1972\u001b[0m \u001b[0;34m\u001b[0m\u001b[0m\n",
      "\u001b[0;32m/home/peter/.local/lib/python3.6/site-packages/keras/utils/generic_utils.py\u001b[0m in \u001b[0;36mdeserialize_keras_object\u001b[0;34m(identifier, module_objects, custom_objects, printable_module_name)\u001b[0m\n\u001b[1;32m    138\u001b[0m             \u001b[0;32mif\u001b[0m \u001b[0mcls\u001b[0m \u001b[0;32mis\u001b[0m \u001b[0;32mNone\u001b[0m\u001b[0;34m:\u001b[0m\u001b[0;34m\u001b[0m\u001b[0;34m\u001b[0m\u001b[0m\n\u001b[1;32m    139\u001b[0m                 raise ValueError('Unknown ' + printable_module_name +\n\u001b[0;32m--> 140\u001b[0;31m                                  ': ' + class_name)\n\u001b[0m\u001b[1;32m    141\u001b[0m         \u001b[0;32mif\u001b[0m \u001b[0mhasattr\u001b[0m\u001b[0;34m(\u001b[0m\u001b[0mcls\u001b[0m\u001b[0;34m,\u001b[0m \u001b[0;34m'from_config'\u001b[0m\u001b[0;34m)\u001b[0m\u001b[0;34m:\u001b[0m\u001b[0;34m\u001b[0m\u001b[0;34m\u001b[0m\u001b[0m\n\u001b[1;32m    142\u001b[0m             \u001b[0mcustom_objects\u001b[0m \u001b[0;34m=\u001b[0m \u001b[0mcustom_objects\u001b[0m \u001b[0;32mor\u001b[0m \u001b[0;34m{\u001b[0m\u001b[0;34m}\u001b[0m\u001b[0;34m\u001b[0m\u001b[0;34m\u001b[0m\u001b[0m\n",
      "\u001b[0;31mValueError\u001b[0m: Unknown metric function: {'class_name': 'BinaryAccuracy', 'config': {'name': 'binary_accuracy', 'dtype': 'float32', 'threshold': 0.5}}"
     ]
    }
   ],
   "source": [
    "model1 = keras.models.load_model('model_save12_2')"
   ]
  },
  {
   "cell_type": "code",
   "execution_count": null,
   "metadata": {},
   "outputs": [],
   "source": []
  },
  {
   "cell_type": "code",
   "execution_count": 83,
   "metadata": {},
   "outputs": [
    {
     "ename": "AttributeError",
     "evalue": "module 'keras.models' has no attribute 'load_weights'",
     "output_type": "error",
     "traceback": [
      "\u001b[0;31m---------------------------------------------------------------------------\u001b[0m",
      "\u001b[0;31mAttributeError\u001b[0m                            Traceback (most recent call last)",
      "\u001b[0;32m<ipython-input-83-be5d5fa63751>\u001b[0m in \u001b[0;36m<module>\u001b[0;34m()\u001b[0m\n\u001b[1;32m      1\u001b[0m \u001b[0mbinary_accuracy\u001b[0m\u001b[0;34m=\u001b[0m\u001b[0mtf\u001b[0m\u001b[0;34m.\u001b[0m\u001b[0mkeras\u001b[0m\u001b[0;34m.\u001b[0m\u001b[0mmetrics\u001b[0m\u001b[0;34m.\u001b[0m\u001b[0mBinaryAccuracy\u001b[0m\u001b[0;34m(\u001b[0m\u001b[0;34m)\u001b[0m\u001b[0;34m\u001b[0m\u001b[0;34m\u001b[0m\u001b[0m\n\u001b[0;32m----> 2\u001b[0;31m \u001b[0mmodel\u001b[0m \u001b[0;34m=\u001b[0m \u001b[0mkeras\u001b[0m\u001b[0;34m.\u001b[0m\u001b[0mmodels\u001b[0m\u001b[0;34m.\u001b[0m\u001b[0mload_weights\u001b[0m\u001b[0;34m(\u001b[0m\u001b[0;34m'model_save12_2'\u001b[0m\u001b[0;34m)\u001b[0m\u001b[0;34m\u001b[0m\u001b[0;34m\u001b[0m\u001b[0m\n\u001b[0m",
      "\u001b[0;31mAttributeError\u001b[0m: module 'keras.models' has no attribute 'load_weights'"
     ]
    }
   ],
   "source": [
    "binary_accuracy=tf.keras.metrics.BinaryAccuracy()\n",
    "model = keras.models.load_weights('model_save12_2')\n"
   ]
  },
  {
   "cell_type": "code",
   "execution_count": 30,
   "metadata": {},
   "outputs": [
    {
     "data": {
      "text/plain": [
       "<tensorflow.python.keras.metrics.BinaryAccuracy at 0x7ff3c33df240>"
      ]
     },
     "execution_count": 30,
     "metadata": {},
     "output_type": "execute_result"
    }
   ],
   "source": [
    "tf.keras.metrics.BinaryAccuracy()"
   ]
  },
  {
   "cell_type": "code",
   "execution_count": 85,
   "metadata": {},
   "outputs": [],
   "source": [
    "model.load_weights('model_save12_2')"
   ]
  },
  {
   "cell_type": "code",
   "execution_count": 88,
   "metadata": {},
   "outputs": [
    {
     "name": "stdout",
     "output_type": "stream",
     "text": [
      "Model: \"sequential_2\"\n",
      "_________________________________________________________________\n",
      "Layer (type)                 Output Shape              Param #   \n",
      "=================================================================\n",
      "conv2d_3 (Conv2D)            (None, 2998, 58, 12)      120       \n",
      "_________________________________________________________________\n",
      "max_pooling2d_3 (MaxPooling2 (None, 999, 58, 12)       0         \n",
      "_________________________________________________________________\n",
      "conv2d_4 (Conv2D)            (None, 197, 58, 10)       1810      \n",
      "_________________________________________________________________\n",
      "max_pooling2d_4 (MaxPooling2 (None, 16, 58, 10)        0         \n",
      "_________________________________________________________________\n",
      "batch_normalization_4 (Batch (None, 16, 58, 10)        40        \n",
      "_________________________________________________________________\n",
      "batch_normalization_5 (Batch (None, 16, 58, 10)        40        \n",
      "_________________________________________________________________\n",
      "flatten_2 (Flatten)          (None, 9280)              0         \n",
      "_________________________________________________________________\n",
      "dense_10 (Dense)             (None, 128)               1187968   \n",
      "_________________________________________________________________\n",
      "batch_normalization_6 (Batch (None, 128)               512       \n",
      "_________________________________________________________________\n",
      "dropout_4 (Dropout)          (None, 128)               0         \n",
      "_________________________________________________________________\n",
      "dense_11 (Dense)             (None, 128)               16512     \n",
      "_________________________________________________________________\n",
      "dense_12 (Dense)             (None, 128)               16512     \n",
      "_________________________________________________________________\n",
      "dense_13 (Dense)             (None, 128)               16512     \n",
      "_________________________________________________________________\n",
      "dense_14 (Dense)             (None, 128)               16512     \n",
      "_________________________________________________________________\n",
      "dense_15 (Dense)             (None, 128)               16512     \n",
      "_________________________________________________________________\n",
      "dropout_5 (Dropout)          (None, 128)               0         \n",
      "_________________________________________________________________\n",
      "dense_16 (Dense)             (None, 32)                4128      \n",
      "_________________________________________________________________\n",
      "dropout_6 (Dropout)          (None, 32)                0         \n",
      "_________________________________________________________________\n",
      "dense_17 (Dense)             (None, 12)                396       \n",
      "_________________________________________________________________\n",
      "dense_18 (Dense)             (None, 1)                 13        \n",
      "=================================================================\n",
      "Total params: 1,277,587\n",
      "Trainable params: 1,277,291\n",
      "Non-trainable params: 296\n",
      "_________________________________________________________________\n"
     ]
    }
   ],
   "source": [
    "model.summary()"
   ]
  },
  {
   "cell_type": "code",
   "execution_count": 96,
   "metadata": {},
   "outputs": [
    {
     "data": {
      "text/plain": [
       "[array([[[[-0.04371445,  0.06288289,  0.00220832, -0.26536834,\n",
       "            0.12732619, -0.20944123, -0.12803116, -0.33021167,\n",
       "            0.10915013,  0.21212925, -0.07018335, -0.0819506 ]],\n",
       " \n",
       "         [[ 0.17572783, -0.12219331,  0.16629668,  0.06106441,\n",
       "            0.02912835,  0.31213728,  0.07308736,  0.17912923,\n",
       "           -0.25181496, -0.02450743, -0.04187294, -0.32787195]],\n",
       " \n",
       "         [[-0.22734806, -0.10240284, -0.24564868, -0.08502728,\n",
       "           -0.05675149,  0.0831949 ,  0.16702476, -0.0327068 ,\n",
       "           -0.13656875,  0.23316926,  0.12352274, -0.38357523]]],\n",
       " \n",
       " \n",
       "        [[[-0.2205665 , -0.32504475, -0.10789263, -0.00963788,\n",
       "            0.09203134, -0.01728389,  0.10230468, -0.2572895 ,\n",
       "           -0.187482  , -0.08749034, -0.15503348, -0.0700805 ]],\n",
       " \n",
       "         [[-0.01902578, -0.34224388,  0.12009176,  0.21555546,\n",
       "           -0.3173343 ,  0.287467  , -0.19546221, -0.07277993,\n",
       "            0.17058784,  0.04998314, -0.38171408, -0.08736391]],\n",
       " \n",
       "         [[-0.0813356 ,  0.30558768,  0.20993632, -0.22994213,\n",
       "            0.27147883, -0.23854527, -0.29954055,  0.21626858,\n",
       "            0.13474797,  0.27161744, -0.11835908, -0.01333692]]],\n",
       " \n",
       " \n",
       "        [[[-0.28213322, -0.11676495,  0.11674473,  0.12488742,\n",
       "            0.18404594,  0.10860901, -0.01104664, -0.00908452,\n",
       "           -0.33727255, -0.28884318,  0.10507482,  0.13125624]],\n",
       " \n",
       "         [[-0.0598161 , -0.10117071,  0.07919987,  0.20718136,\n",
       "           -0.2760484 , -0.07932722,  0.03396026, -0.2157071 ,\n",
       "            0.13735509,  0.0812901 ,  0.1492169 , -0.14955665]],\n",
       " \n",
       "         [[ 0.02028776,  0.03050631,  0.22458686,  0.20819919,\n",
       "            0.11039526, -0.00720149, -0.21207884,  0.1973196 ,\n",
       "           -0.14810108, -0.04013788,  0.16366455, -0.3113416 ]]]],\n",
       "       dtype=float32),\n",
       " array([-0.11660485,  0.02230146,  0.00141847, -0.08397564,  0.05917583,\n",
       "        -0.08286341, -0.06614479, -0.05882563, -0.01354656, -0.06122815,\n",
       "        -0.03153436,  0.01986359], dtype=float32),\n",
       " array([[[[-0.15756299,  0.08097508, -0.00804122, ...,  0.11860172,\n",
       "            0.02691041,  0.00790341],\n",
       "          [-0.20448868,  0.20767687,  0.06575134, ..., -0.16661833,\n",
       "           -0.06904136, -0.02191351],\n",
       "          [-0.2221636 ,  0.04479204, -0.04410136, ..., -0.02466824,\n",
       "           -0.01244878, -0.11354001],\n",
       "          ...,\n",
       "          [-0.13757382,  0.08697482,  0.05759896, ..., -0.05538904,\n",
       "           -0.08567024, -0.27774552],\n",
       "          [ 0.06203361,  0.08556487, -0.14813146, ..., -0.15645973,\n",
       "            0.00773726, -0.15207648],\n",
       "          [-0.18249337,  0.16355917, -0.0876523 , ..., -0.1390891 ,\n",
       "           -0.00598277,  0.07525455]]],\n",
       " \n",
       " \n",
       "        [[[-0.06852546, -0.11807179,  0.20900628, ...,  0.353417  ,\n",
       "           -0.15619464,  0.2918509 ],\n",
       "          [-0.24616407,  0.11306888, -0.07514702, ..., -0.30880716,\n",
       "           -0.04884885, -0.0216613 ],\n",
       "          [-0.04434476, -0.00925888, -0.16763148, ...,  0.07867002,\n",
       "           -0.05313286, -0.13020703],\n",
       "          ...,\n",
       "          [-0.18143234,  0.02573894, -0.0278799 , ...,  0.17974813,\n",
       "           -0.01702753, -0.18434705],\n",
       "          [-0.11617315,  0.2022515 ,  0.00693061, ..., -0.16471237,\n",
       "            0.06460169, -0.01323321],\n",
       "          [-0.15020996,  0.09830344,  0.01817335, ...,  0.07733815,\n",
       "           -0.10634682, -0.06079406]]],\n",
       " \n",
       " \n",
       "        [[[ 0.07869089, -0.11425777,  0.21458444, ...,  0.2502021 ,\n",
       "           -0.27826285,  0.23443823],\n",
       "          [-0.38382167,  0.2556887 , -0.11841058, ..., -0.08868372,\n",
       "            0.06748433, -0.15023628],\n",
       "          [ 0.15195231,  0.14908823, -0.321494  , ...,  0.16735314,\n",
       "           -0.07721265,  0.02621537],\n",
       "          ...,\n",
       "          [-0.21740183, -0.08246139, -0.25711384, ...,  0.26185486,\n",
       "            0.16318083, -0.12631682],\n",
       "          [-0.29625633,  0.2078891 ,  0.05439742, ...,  0.0312087 ,\n",
       "           -0.00907093, -0.09434508],\n",
       "          [-0.06485105, -0.01531893,  0.11055736, ..., -0.01939141,\n",
       "           -0.04406145, -0.05347347]]],\n",
       " \n",
       " \n",
       "        ...,\n",
       " \n",
       " \n",
       "        [[[-0.13098034, -0.0252094 , -0.06427456, ...,  0.06881651,\n",
       "           -0.17294882,  0.11681733],\n",
       "          [ 0.2633986 , -0.1410343 , -0.21818615, ...,  0.06797996,\n",
       "           -0.18949509, -0.10411134],\n",
       "          [-0.27636757, -0.08122581,  0.16217662, ..., -0.08522022,\n",
       "           -0.11611878, -0.09216441],\n",
       "          ...,\n",
       "          [-0.03489539, -0.04903884, -0.12404478, ...,  0.23422171,\n",
       "           -0.12550198,  0.0668195 ],\n",
       "          [ 0.141465  , -0.06339762, -0.15497659, ..., -0.14691952,\n",
       "           -0.13985771, -0.02068251],\n",
       "          [ 0.16497996,  0.1983044 , -0.10997054, ..., -0.01986988,\n",
       "            0.03848152, -0.14779961]]],\n",
       " \n",
       " \n",
       "        [[[-0.11083011, -0.16812119, -0.0436479 , ..., -0.08112478,\n",
       "           -0.17993571, -0.11556568],\n",
       "          [ 0.08463456,  0.10563701, -0.10566679, ...,  0.1302261 ,\n",
       "           -0.08320031,  0.19809704],\n",
       "          [-0.19427678,  0.10469654, -0.02189909, ...,  0.06046629,\n",
       "            0.1095691 , -0.09932243],\n",
       "          ...,\n",
       "          [-0.35282773, -0.00308612, -0.16099927, ...,  0.22919048,\n",
       "           -0.13133451, -0.02474532],\n",
       "          [ 0.2849625 , -0.04552397,  0.10061172, ...,  0.01583268,\n",
       "            0.07145627,  0.05616165],\n",
       "          [ 0.10169727,  0.08862118, -0.09429377, ...,  0.05321575,\n",
       "           -0.02823036, -0.33742043]]],\n",
       " \n",
       " \n",
       "        [[[-0.13214009, -0.09707852, -0.0728827 , ..., -0.21327549,\n",
       "            0.03945023, -0.25184026],\n",
       "          [-0.12173568,  0.14039363,  0.05018005, ..., -0.07006916,\n",
       "           -0.385456  ,  0.04163989],\n",
       "          [-0.2532466 ,  0.08401107, -0.06770065, ...,  0.04265393,\n",
       "            0.18923186,  0.05737799],\n",
       "          ...,\n",
       "          [-0.26192868,  0.08168592,  0.0041562 , ...,  0.04344728,\n",
       "           -0.09579371,  0.22062993],\n",
       "          [ 0.0088657 ,  0.1928    ,  0.10126077, ..., -0.18174054,\n",
       "           -0.0652677 ,  0.08288327],\n",
       "          [-0.12396598,  0.16807172,  0.13643903, ...,  0.02826022,\n",
       "           -0.29361293, -0.20490226]]]], dtype=float32),\n",
       " array([-0.31683972, -0.46538544, -0.01537418, -0.08084904,  0.08380726,\n",
       "        -0.14523584,  0.09157141, -0.4583015 , -0.0021127 ,  0.0206673 ],\n",
       "       dtype=float32),\n",
       " array([1.0174447 , 0.8559014 , 1.084521  , 0.8830676 , 1.1241868 ,\n",
       "        0.90531313, 0.8930203 , 1.1934108 , 1.0025045 , 0.94183487],\n",
       "       dtype=float32),\n",
       " array([-0.02748176,  0.01375004,  0.0408176 , -0.00588471,  0.02515197,\n",
       "         0.01566889,  0.0902229 ,  0.00523013, -0.05228326, -0.14876848],\n",
       "       dtype=float32),\n",
       " array([1.0591717e+00, 3.7778177e+00, 1.5505787e+00, 2.3780720e+00,\n",
       "        5.1918969e+00, 6.4433774e-09, 4.5471501e+00, 3.9431369e+00,\n",
       "        1.1717426e+00, 1.3276639e+00], dtype=float32),\n",
       " array([8.9918256e-01, 1.6539397e+00, 9.0236199e-01, 9.9571234e-01,\n",
       "        2.0250280e+00, 6.1302661e-09, 1.8315902e+00, 1.8926293e+00,\n",
       "        6.4799845e-01, 7.8860039e-01], dtype=float32),\n",
       " array([1.0150392 , 0.84210837, 1.0997518 , 0.87285686, 1.1237203 ,\n",
       "        0.9613569 , 0.87987113, 1.2011963 , 0.99291277, 0.92809486],\n",
       "       dtype=float32),\n",
       " array([ 0.15884654, -0.02533069,  0.1199915 , -0.12075008,  0.00210173,\n",
       "         0.05868512,  0.07581212,  0.06131705, -0.0029891 ,  0.01316514],\n",
       "       dtype=float32),\n",
       " array([-0.03184524,  0.00157634,  0.03632262, -0.01139689,  0.03086919,\n",
       "         0.00125243,  0.08485594,  0.00387357, -0.06225629, -0.15355727],\n",
       "       dtype=float32),\n",
       " array([1.0214696e+00, 6.7629015e-01, 1.2018307e+00, 7.6155609e-01,\n",
       "        1.2830257e+00, 3.5527144e-08, 8.2183945e-01, 1.3807243e+00,\n",
       "        1.0133784e+00, 8.9164323e-01], dtype=float32),\n",
       " array([[ 0.20560914,  0.02640528, -0.10652813, ..., -0.0681536 ,\n",
       "         -0.10417268,  0.08251128],\n",
       "        [-0.00325212,  0.14008977,  0.02971177, ...,  0.16726968,\n",
       "          0.17295672,  0.02190918],\n",
       "        [-0.01410543, -0.18271458, -0.08107825, ..., -0.00225328,\n",
       "         -0.1673754 ,  0.07425477],\n",
       "        ...,\n",
       "        [-0.04078585,  0.00812549, -0.02500118, ..., -0.01749334,\n",
       "          0.03075328, -0.01175356],\n",
       "        [ 0.00268735, -0.14476779, -0.14529014, ..., -0.07142615,\n",
       "          0.09622905,  0.04113587],\n",
       "        [ 0.10453422,  0.04565529, -0.0443152 , ..., -0.14381118,\n",
       "         -0.00137225,  0.01632841]], dtype=float32),\n",
       " array([ 0.03898184,  0.07141182, -0.04919069, -0.10859905,  0.08352131,\n",
       "         0.00272504, -0.02191593,  0.11655147, -0.18690851,  0.08472636,\n",
       "         0.04421825, -0.01160434, -0.07024799, -0.02311366, -0.02668703,\n",
       "         0.05338208, -0.01842223,  0.02628959,  0.07637037,  0.0575663 ,\n",
       "        -0.0997541 , -0.03184751, -0.12791727, -0.03677826, -0.02468581,\n",
       "        -0.04475658, -0.0307947 ,  0.00945221, -0.0015391 , -0.07941813,\n",
       "         0.04595378, -0.13142607,  0.07746238,  0.05041748,  0.02807647,\n",
       "         0.03360299, -0.1301463 , -0.08656995,  0.10195731, -0.13851959,\n",
       "        -0.1779577 , -0.06714673, -0.09595577, -0.09412371, -0.09674274,\n",
       "        -0.14694561,  0.05957455, -0.05057394, -0.0239142 , -0.00296234,\n",
       "         0.07238265, -0.0213099 , -0.2089416 , -0.11896174, -0.08672445,\n",
       "        -0.05085636, -0.10022399, -0.00817788,  0.02278504,  0.23015065,\n",
       "         0.09665588, -0.00212608,  0.05417481,  0.03280843, -0.01716424,\n",
       "        -0.05808745, -0.01558481, -0.17427026, -0.1041691 , -0.07319413,\n",
       "         0.2143271 , -0.01386697, -0.04104316,  0.0188964 , -0.04563864,\n",
       "         0.1085205 , -0.26146805, -0.04900536,  0.10582497,  0.05172155,\n",
       "         0.07392875, -0.03751629,  0.04266993, -0.0612678 , -0.01588568,\n",
       "         0.0832739 ,  0.02208342, -0.09269883, -0.20164838,  0.17459457,\n",
       "        -0.00241499, -0.11938211, -0.29239544, -0.02815402,  0.01369602,\n",
       "        -0.1486456 , -0.08321963, -0.06967784, -0.08557796, -0.1304853 ,\n",
       "        -0.10380097, -0.21797852, -0.07252871,  0.14977422, -0.10074257,\n",
       "         0.00346064, -0.07472331,  0.00350126, -0.03042925, -0.00491665,\n",
       "         0.02399487, -0.04396579, -0.08463962, -0.10309332, -0.14117841,\n",
       "        -0.02127369,  0.01572467, -0.05656604, -0.1256734 ,  0.04907077,\n",
       "         0.00107047, -0.12005692, -0.1043456 ,  0.07805702, -0.01406643,\n",
       "        -0.00620369,  0.02999416, -0.05613826], dtype=float32),\n",
       " array([1.059286  , 0.98392737, 0.9393449 , 0.7303366 , 1.1613581 ,\n",
       "        0.94783   , 0.88054365, 0.8556807 , 0.94320065, 1.1323781 ,\n",
       "        1.1095529 , 0.6864088 , 1.0846574 , 1.0231785 , 0.8703982 ,\n",
       "        0.9384644 , 1.0545223 , 0.76789725, 1.0044003 , 0.94272137,\n",
       "        1.1168292 , 0.8103286 , 1.0401154 , 1.1519871 , 1.0657418 ,\n",
       "        0.8355522 , 1.0299284 , 0.653579  , 0.807772  , 1.1022996 ,\n",
       "        1.0052103 , 0.898993  , 0.7448937 , 0.90131176, 1.0220741 ,\n",
       "        0.7832573 , 0.81529444, 0.8963682 , 1.0545876 , 0.6937105 ,\n",
       "        0.88209087, 1.0187682 , 1.0685477 , 0.8303069 , 1.0256774 ,\n",
       "        0.86536795, 0.88225824, 1.0436032 , 1.2272905 , 0.8282723 ,\n",
       "        0.90316784, 0.92463136, 0.9561689 , 0.82618415, 1.0771352 ,\n",
       "        1.0863221 , 1.1087381 , 1.0229936 , 0.65131557, 0.97923243,\n",
       "        0.9378648 , 1.1711427 , 1.1033586 , 1.0958263 , 1.0658122 ,\n",
       "        1.0697387 , 0.9872698 , 0.87112993, 1.1590081 , 0.9344919 ,\n",
       "        1.0785878 , 0.9121553 , 0.938396  , 0.9435041 , 0.888757  ,\n",
       "        1.055425  , 0.93888813, 1.039942  , 1.2164388 , 1.1256198 ,\n",
       "        0.8620754 , 0.8478325 , 1.0394007 , 0.8000837 , 0.8617044 ,\n",
       "        0.94786453, 0.5906575 , 1.1129892 , 1.206579  , 0.8806857 ,\n",
       "        1.0810968 , 1.0462642 , 1.112729  , 1.0444242 , 0.8387318 ,\n",
       "        0.93707556, 1.1410561 , 1.0141798 , 1.0656747 , 1.1053911 ,\n",
       "        0.9473005 , 0.8450866 , 0.7976255 , 0.9517947 , 0.8845088 ,\n",
       "        1.1096082 , 0.8422685 , 1.2720454 , 1.1445676 , 0.959505  ,\n",
       "        1.0188135 , 0.8347974 , 0.9108284 , 1.0654111 , 1.059941  ,\n",
       "        0.96804667, 0.96497875, 1.1111189 , 0.8338327 , 0.9366485 ,\n",
       "        0.9115172 , 1.2146677 , 1.1559217 , 0.82223916, 0.8389636 ,\n",
       "        0.9871685 , 1.0578132 , 0.8535975 ], dtype=float32),\n",
       " array([ 0.02860508, -0.00402497, -0.09912564,  0.02794653,  0.22644566,\n",
       "        -0.09486898, -0.02243803,  0.0668028 , -0.06802435,  0.07703888,\n",
       "        -0.02420633, -0.14273885,  0.15252   ,  0.02053037,  0.05176131,\n",
       "        -0.07079912, -0.1071972 ,  0.18081331, -0.05248432,  0.01045805,\n",
       "         0.04333272, -0.18011668, -0.04427166,  0.04915806, -0.08454156,\n",
       "        -0.06741666,  0.14455743,  0.19210814, -0.12438948, -0.09718044,\n",
       "         0.03115172, -0.02787109,  0.06380259,  0.0339849 ,  0.09793924,\n",
       "        -0.18662544, -0.11249337,  0.09512866,  0.06839379, -0.07850707,\n",
       "        -0.09247825,  0.04392198,  0.02037615,  0.01802502,  0.07955741,\n",
       "         0.2894314 ,  0.07940555, -0.02406553, -0.00195962, -0.04118126,\n",
       "        -0.0763241 ,  0.07624494,  0.04806481,  0.03589546, -0.09018739,\n",
       "         0.0533695 , -0.04384967, -0.09003285,  0.01455168,  0.07423622,\n",
       "         0.09481563,  0.07456104,  0.06256117, -0.0226106 ,  0.07308048,\n",
       "        -0.01839221,  0.0512227 , -0.08588253, -0.06378952, -0.08636197,\n",
       "         0.16291553, -0.02772016, -0.03645612, -0.00725391,  0.02908874,\n",
       "         0.10886402,  0.0949836 ,  0.01714675,  0.06469693,  0.09867921,\n",
       "         0.18016188,  0.0922455 ,  0.06056302, -0.02393836,  0.11533722,\n",
       "         0.02928367,  0.02281906, -0.07260177, -0.00399277,  0.02769015,\n",
       "         0.00299878,  0.20805532,  0.0481016 , -0.00482192,  0.12958416,\n",
       "         0.30060667, -0.12912457,  0.108932  , -0.08478267,  0.00205858,\n",
       "         0.00288458, -0.10203607,  0.1299369 ,  0.06954841, -0.04095235,\n",
       "         0.06809583,  0.01946777,  0.03205748, -0.08335964, -0.02818906,\n",
       "         0.06169165, -0.05013441, -0.083435  ,  0.10821331,  0.11153698,\n",
       "        -0.0449494 ,  0.0564474 ,  0.08560235,  0.07426827,  0.12970078,\n",
       "        -0.11954602, -0.05937812, -0.01650053, -0.0624196 ,  0.05877041,\n",
       "        -0.03564945,  0.01756634,  0.05109636], dtype=float32),\n",
       " array([14.085151  , 13.402782  ,  3.402968  ,  1.2377266 , 13.092734  ,\n",
       "         4.6765404 ,  6.188596  , 27.869047  ,  2.1345906 , 12.409808  ,\n",
       "        23.615936  , 10.483424  , 11.913017  ,  5.4550147 ,  2.987736  ,\n",
       "        16.854239  ,  4.109292  , 18.826742  , 23.872324  , 21.2504    ,\n",
       "         0.42464805, 15.691586  ,  0.46922818,  6.643096  , 11.634592  ,\n",
       "         1.8674326 ,  2.7632115 , 10.022969  , 13.187273  , 12.161593  ,\n",
       "         6.8199725 ,  0.50471777, 14.682631  , 27.421124  , 14.199077  ,\n",
       "         9.503295  ,  0.7264791 ,  0.7644443 , 20.037756  ,  2.2756333 ,\n",
       "         0.77592415,  0.6641424 ,  8.645637  ,  9.983573  ,  7.266869  ,\n",
       "         0.6165629 , 15.646899  ,  1.6479644 , 10.378446  ,  7.6157136 ,\n",
       "        16.06644   , 12.258654  ,  1.0557754 ,  2.386788  ,  2.2753553 ,\n",
       "        13.223153  ,  9.404588  , 10.284703  ,  3.9427967 , 26.127058  ,\n",
       "        21.557701  , 24.854378  , 20.465805  , 23.887186  , 11.92831   ,\n",
       "        16.701105  , 12.553116  ,  5.170795  ,  0.9169727 ,  7.6634727 ,\n",
       "        20.802946  ,  5.4910736 ,  8.998918  ,  5.320286  ,  2.259275  ,\n",
       "        18.352842  ,  0.88781905, 17.764822  , 13.405138  , 15.893728  ,\n",
       "        22.025757  ,  4.203727  ,  7.445049  ,  2.9321856 , 11.995464  ,\n",
       "        16.980606  , 15.919399  ,  2.3132122 ,  0.8136735 , 22.769701  ,\n",
       "        23.658579  ,  1.0304153 ,  1.301569  ,  4.4811482 , 13.999049  ,\n",
       "         1.2699465 ,  3.6938899 ,  5.526002  ,  9.540003  ,  0.5018551 ,\n",
       "         1.8153565 ,  0.46200022,  3.2297704 , 25.093588  , 11.625255  ,\n",
       "        16.399176  ,  2.6260703 , 16.33098   ,  9.682642  , 10.0518265 ,\n",
       "         5.5079346 ,  2.9876447 , 14.03778   ,  2.5084152 ,  4.477327  ,\n",
       "        17.813814  ,  9.608197  ,  8.207386  , 16.501314  , 11.773486  ,\n",
       "         3.6288486 ,  0.25552616,  2.7701478 , 14.274074  ,  7.209607  ,\n",
       "        10.8347845 ,  8.876919  ,  2.8402858 ], dtype=float32),\n",
       " array([415.13153 , 368.58963 , 428.18033 ,  84.484604, 472.28424 ,\n",
       "        222.78653 , 416.89343 , 715.9836  ,  72.63064 , 364.57147 ,\n",
       "        595.38336 , 286.12112 , 367.9807  , 140.59956 , 151.42378 ,\n",
       "        338.52527 , 205.31573 , 904.94476 , 542.14825 , 409.7094  ,\n",
       "         14.672246, 294.61868 ,  27.79198 , 319.91794 , 327.21    ,\n",
       "        140.76314 , 115.63785 , 241.84418 , 254.20256 , 472.7067  ,\n",
       "        274.552   ,  23.85832 , 391.2162  , 501.7468  , 290.67993 ,\n",
       "        221.68625 ,  26.680979,  26.837679, 465.18643 , 105.978874,\n",
       "         74.23386 ,  26.732933, 297.59637 , 244.86041 , 268.95255 ,\n",
       "         25.546444, 367.5372  ,  99.45624 , 308.25522 , 257.79965 ,\n",
       "        361.5361  , 378.75037 ,  42.200977, 109.827705, 263.96445 ,\n",
       "        489.66064 , 275.05392 , 307.73642 , 143.83414 , 538.1166  ,\n",
       "        740.28613 , 617.1103  , 660.0865  , 621.1185  , 360.01038 ,\n",
       "        385.72842 , 314.93762 , 254.73079 ,  44.839413, 386.5848  ,\n",
       "        526.4713  , 293.2312  , 274.7366  , 371.19223 , 114.44712 ,\n",
       "        416.98355 ,  67.856094, 628.6393  , 365.4691  , 428.24506 ,\n",
       "        770.3777  , 221.02502 , 244.10555 , 159.6985  , 337.26038 ,\n",
       "        511.71283 , 494.45462 , 169.60934 ,  32.228195, 370.9034  ,\n",
       "        307.11487 ,  48.488968,  55.77803 , 266.94153 , 286.9508  ,\n",
       "        127.221535, 222.7682  , 198.21034 , 457.23975 ,  83.59661 ,\n",
       "        168.09232 ,  36.2974  , 278.22253 , 435.51343 , 286.07727 ,\n",
       "        440.51535 , 171.67885 , 423.6613  , 261.33585 , 277.1116  ,\n",
       "        358.8761  , 176.41057 , 271.19852 , 221.1954  , 179.67633 ,\n",
       "        492.4037  , 238.48404 , 313.41266 , 351.90097 , 487.6604  ,\n",
       "        167.53458 ,   8.992232, 296.08698 , 266.355   , 249.2538  ,\n",
       "        272.77377 , 369.056   ,  56.23762 ], dtype=float32),\n",
       " array([[-0.25614652, -0.00575125,  0.14533852, ...,  0.2522464 ,\n",
       "         -0.18002452, -0.07217383],\n",
       "        [ 0.05559794,  0.11069764, -0.13907199, ..., -0.08017211,\n",
       "          0.01973079, -0.00640883],\n",
       "        [ 0.17123353,  0.3135945 ,  0.1209793 , ..., -0.03538051,\n",
       "          0.06988586,  0.03874372],\n",
       "        ...,\n",
       "        [-0.3669868 , -0.2962972 ,  0.0848305 , ..., -0.20185752,\n",
       "         -0.26652184,  0.1543302 ],\n",
       "        [ 0.18235096, -0.00273052,  0.0272342 , ...,  0.17422636,\n",
       "         -0.03772715,  0.10816643],\n",
       "        [ 0.17034087,  0.03030811,  0.1055807 , ..., -0.06785132,\n",
       "         -0.05055325,  0.2988583 ]], dtype=float32),\n",
       " array([-0.19685985, -0.01271335, -0.22512344, -0.14870669, -0.21118599,\n",
       "        -0.28430203, -0.21818694, -0.05870522, -0.09739704, -0.13947165,\n",
       "        -0.10375854, -0.21060318, -0.19129585,  0.03949768, -0.14328453,\n",
       "        -0.17312333, -0.13942653, -0.15009595, -0.33326495, -0.0581007 ,\n",
       "        -0.09331527, -0.04828866, -0.09479629, -0.15843791, -0.20280997,\n",
       "        -0.22187719, -0.09889983, -0.1264331 , -0.09130663, -0.3035495 ,\n",
       "        -0.07323388, -0.02786161, -0.22930966,  0.0605509 , -0.21730644,\n",
       "        -0.15310293, -0.21455476, -0.17986307, -0.2851392 , -0.05629624,\n",
       "        -0.08708473, -0.09786477, -0.0462145 , -0.18807854, -0.27230644,\n",
       "         0.06919481, -0.14614227, -0.15381102, -0.19417757, -0.21162383,\n",
       "        -0.10265912, -0.26719117, -0.32810283, -0.2406382 , -0.24821359,\n",
       "        -0.11738497, -0.22560835, -0.11395845, -0.29705602, -0.03891803,\n",
       "        -0.06314795, -0.15553676, -0.07008535, -0.21908434, -0.03780903,\n",
       "        -0.14164828, -0.24758585, -0.21472521, -0.28068236, -0.1724059 ,\n",
       "        -0.05618951, -0.24885248,  0.00253051, -0.0753624 , -0.13631563,\n",
       "        -0.215494  , -0.14787911, -0.22489342, -0.2516893 , -0.18854067,\n",
       "        -0.05680237, -0.23333198, -0.22207282, -0.20436735, -0.05121076,\n",
       "        -0.18064721, -0.21817519, -0.00694367, -0.2992825 , -0.23096003,\n",
       "        -0.06633928, -0.08964813, -0.11809863, -0.08770914, -0.07272163,\n",
       "        -0.301665  , -0.20616235, -0.22300147, -0.04456163, -0.27037913,\n",
       "        -0.09348422, -0.22712624, -0.12654348, -0.2265155 , -0.19259463,\n",
       "        -0.20034933, -0.24500026, -0.1563058 , -0.22724126, -0.26482615,\n",
       "        -0.18918148, -0.06193515, -0.17611696, -0.13873768, -0.06629987,\n",
       "        -0.05936627, -0.10284118, -0.2599439 , -0.14684968, -0.10862368,\n",
       "        -0.1402682 , -0.01160039,  0.04601109, -0.20144603, -0.03057334,\n",
       "         0.03213085, -0.08217077, -0.07962915], dtype=float32),\n",
       " array([[ 0.1543342 ,  0.04628272, -0.13127881, ..., -0.00884101,\n",
       "          0.00505442,  0.09424894],\n",
       "        [-0.3376575 , -0.01639869, -0.08027499, ..., -0.13704944,\n",
       "         -0.19271697,  0.02540268],\n",
       "        [-0.2055561 ,  0.08804144,  0.16213228, ..., -0.11913387,\n",
       "         -0.10769619, -0.17674448],\n",
       "        ...,\n",
       "        [ 0.03877328,  0.08446295, -0.18076657, ...,  0.07241894,\n",
       "         -0.07210459, -0.15723914],\n",
       "        [ 0.21739596, -0.15287477,  0.0601826 , ..., -0.06343804,\n",
       "          0.09616219, -0.09640927],\n",
       "        [ 0.08550169,  0.05215843, -0.10948475, ..., -0.01527507,\n",
       "          0.06190899, -0.14277184]], dtype=float32),\n",
       " array([ 0.06309092, -0.08679872, -0.06830455, -0.02538116, -0.07142553,\n",
       "        -0.02435181, -0.05715851, -0.0414972 , -0.08620803, -0.02535141,\n",
       "        -0.04795296, -0.10402701, -0.01892433, -0.02224371, -0.09924765,\n",
       "        -0.06386843, -0.0537654 , -0.05465225, -0.09352474, -0.11287829,\n",
       "        -0.04586497, -0.06150521, -0.02805045,  0.00260987,  0.05781414,\n",
       "        -0.07332484,  0.10255952, -0.03520128, -0.08059158, -0.06150915,\n",
       "         0.06504531, -0.07807226, -0.04310612,  0.0145144 ,  0.04837216,\n",
       "        -0.14085443, -0.0136157 , -0.01669022, -0.09281354, -0.06143438,\n",
       "         0.07173272, -0.08516368, -0.09828824, -0.04649094, -0.06020108,\n",
       "        -0.04492857, -0.06844973, -0.01205915, -0.04650826, -0.02595091,\n",
       "        -0.09027854,  0.0306742 , -0.07397617,  0.00838434,  0.01866916,\n",
       "        -0.03546152, -0.01449544, -0.06578287, -0.0490343 , -0.11960439,\n",
       "         0.04806254, -0.05164609, -0.0657193 ,  0.03461669, -0.09972715,\n",
       "        -0.06955387, -0.02737043, -0.09909952, -0.03128514, -0.06011478,\n",
       "        -0.06287616, -0.12980917, -0.00940265, -0.04592733, -0.00671248,\n",
       "         0.03770685, -0.06759908, -0.06173411,  0.06520185, -0.10201561,\n",
       "        -0.07552115, -0.08032072, -0.10459537, -0.0611717 , -0.03608089,\n",
       "        -0.07646439,  0.02296943, -0.06711172,  0.09082306, -0.04469432,\n",
       "        -0.0504904 , -0.03936808, -0.03239693,  0.01134903, -0.08448816,\n",
       "        -0.03358184, -0.04470788, -0.0994588 , -0.09261939, -0.10789396,\n",
       "        -0.03270353, -0.04311642, -0.06735835,  0.01537754, -0.09402569,\n",
       "        -0.04447179, -0.09219868, -0.04728071, -0.07809509, -0.05723744,\n",
       "        -0.11099047, -0.12059445, -0.0586244 , -0.04731731, -0.02729946,\n",
       "         0.06038762, -0.0674983 , -0.08381486, -0.10109232, -0.03994241,\n",
       "        -0.0554759 , -0.08095738, -0.01044061, -0.06161041, -0.07976092,\n",
       "        -0.03865457, -0.08191945, -0.1057524 ], dtype=float32),\n",
       " array([[-0.27326453, -0.31439266,  0.02544218, ...,  0.13638172,\n",
       "         -0.04210136,  0.06347466],\n",
       "        [ 0.06129393,  0.00805067, -0.15292737, ..., -0.12362412,\n",
       "         -0.11306794, -0.02870078],\n",
       "        [-0.12870729,  0.1087037 ,  0.1328671 , ...,  0.12110044,\n",
       "         -0.16692373,  0.08945905],\n",
       "        ...,\n",
       "        [-0.05452124, -0.03391402, -0.09110115, ...,  0.03095457,\n",
       "          0.00708426, -0.02143016],\n",
       "        [-0.15702942, -0.05253842,  0.11723877, ...,  0.09041542,\n",
       "         -0.09480398,  0.11086629],\n",
       "        [-0.03519802,  0.01069132,  0.08138599, ...,  0.09902116,\n",
       "         -0.09943969,  0.1254208 ]], dtype=float32),\n",
       " array([-0.11476244, -0.13111462, -0.08660646, -0.04814787, -0.04756287,\n",
       "        -0.179502  , -0.06643451, -0.10303704, -0.09553933, -0.14343117,\n",
       "        -0.0481086 , -0.01410565, -0.04867249, -0.06415317, -0.05894204,\n",
       "        -0.04868279, -0.06664298, -0.13854179, -0.14208189, -0.07597894,\n",
       "        -0.04093289, -0.08960382,  0.00080097, -0.05306771, -0.14090495,\n",
       "        -0.12445072, -0.07889009, -0.08082765, -0.09488332, -0.04735381,\n",
       "        -0.05934912, -0.11837264, -0.08334518, -0.03184747, -0.07979777,\n",
       "        -0.07275294, -0.07403687, -0.06225582, -0.11928628, -0.0239155 ,\n",
       "        -0.13293952, -0.0963161 , -0.07633948, -0.03522609, -0.08077582,\n",
       "        -0.16139346, -0.05804257, -0.08580384, -0.06341506, -0.05511102,\n",
       "        -0.113992  , -0.13797216, -0.05286919, -0.04667774, -0.08318534,\n",
       "        -0.02409474, -0.10224065, -0.06228147, -0.10066073, -0.03912482,\n",
       "        -0.03687866,  0.03145019, -0.11059738, -0.12964797, -0.10076984,\n",
       "        -0.08802204, -0.16462147, -0.12209619, -0.08431788, -0.05487027,\n",
       "        -0.08468227, -0.00531633, -0.1317195 , -0.08182159, -0.04760663,\n",
       "        -0.07709102, -0.0272379 , -0.05181054, -0.08616099, -0.00796949,\n",
       "        -0.02713393, -0.11005034, -0.08995234, -0.1650651 , -0.04972559,\n",
       "        -0.10630258, -0.01075268, -0.0733196 , -0.06783738,  0.02632678,\n",
       "        -0.11343741, -0.12531221, -0.10905299, -0.11690083, -0.07199339,\n",
       "        -0.07796658, -0.1128017 , -0.13735317, -0.04600564, -0.13543311,\n",
       "        -0.10366898, -0.03225891, -0.12465839, -0.07941833, -0.09124739,\n",
       "        -0.09180653, -0.07483447, -0.11628443, -0.10609024, -0.08450078,\n",
       "        -0.11176758, -0.09657337, -0.08418468, -0.08531281, -0.08998298,\n",
       "        -0.08034955, -0.09039352, -0.05811881, -0.06982989, -0.12197907,\n",
       "        -0.16171356, -0.03784468, -0.15637846, -0.07100977, -0.05637675,\n",
       "        -0.01151229, -0.07761346, -0.13068688], dtype=float32),\n",
       " array([[-0.15153567,  0.15700641,  0.01031167, ..., -0.19257396,\n",
       "          0.09300272, -0.11795857],\n",
       "        [ 0.02471789, -0.07722995, -0.07638957, ..., -0.03441431,\n",
       "         -0.06879198, -0.10892799],\n",
       "        [-0.1150526 , -0.04325385, -0.15248814, ...,  0.04641839,\n",
       "         -0.04004379,  0.06926994],\n",
       "        ...,\n",
       "        [-0.16874428, -0.10592191,  0.11632097, ...,  0.10434501,\n",
       "         -0.02124874,  0.07649859],\n",
       "        [ 0.10174485, -0.09729704,  0.03330961, ..., -0.0175555 ,\n",
       "         -0.13029344, -0.09456909],\n",
       "        [ 0.07371154,  0.07883115,  0.04998136, ..., -0.03378112,\n",
       "         -0.01977069, -0.09934014]], dtype=float32),\n",
       " array([-0.11816773, -0.08758096,  0.01922695, -0.17160754, -0.07102147,\n",
       "        -0.04893411, -0.03841492, -0.08473036, -0.02192088,  0.04881816,\n",
       "        -0.06580047, -0.02640195, -0.05225497, -0.08308049, -0.02645396,\n",
       "        -0.09141158, -0.04677124, -0.04323285,  0.01056445, -0.03902583,\n",
       "        -0.03973312, -0.07043547, -0.12374476, -0.09038384, -0.01795153,\n",
       "        -0.03594549, -0.04099806, -0.05389466, -0.00058596, -0.08352532,\n",
       "        -0.08093885, -0.06767682, -0.03692235, -0.06504224, -0.06033709,\n",
       "         0.04671932, -0.02257982, -0.04073947, -0.09605579, -0.03942345,\n",
       "        -0.02946631, -0.06633724, -0.00123771, -0.0772282 , -0.14967054,\n",
       "        -0.01553865, -0.01013633, -0.06052972, -0.10264324, -0.02300324,\n",
       "        -0.11382939, -0.07463088, -0.0356873 , -0.06167752, -0.09097724,\n",
       "        -0.03858885, -0.1389468 ,  0.01245354, -0.0976021 , -0.023367  ,\n",
       "        -0.05819549, -0.13578281, -0.0412    , -0.04687604, -0.04556342,\n",
       "        -0.04203111, -0.09247275, -0.05433496, -0.06922316, -0.09823275,\n",
       "        -0.08594844, -0.04369368, -0.09700563,  0.05331543,  0.01175097,\n",
       "        -0.0862053 , -0.10341635, -0.08990007, -0.01534898, -0.02694425,\n",
       "        -0.05613564, -0.0863764 , -0.09482239, -0.07482307, -0.04318923,\n",
       "         0.03244732, -0.0253152 , -0.07272802, -0.1131988 , -0.11122493,\n",
       "        -0.13245751, -0.06973664, -0.03642055, -0.0134014 , -0.05606729,\n",
       "        -0.04696537,  0.01538422, -0.0725896 , -0.05033412, -0.05437252,\n",
       "        -0.08826838, -0.0895035 , -0.14934166, -0.08529962,  0.07672434,\n",
       "        -0.07326239, -0.05171023, -0.08397767, -0.08675331, -0.1456243 ,\n",
       "        -0.05269634, -0.01459533, -0.01700616, -0.02156008, -0.04194201,\n",
       "        -0.07285924,  0.00237801, -0.00307247,  0.02231979, -0.02467364,\n",
       "        -0.15739517, -0.04065084, -0.0750736 , -0.04411029, -0.06805889,\n",
       "        -0.00282004, -0.03990208, -0.00123489], dtype=float32),\n",
       " array([[ 0.07084054, -0.09199192,  0.11583588, ...,  0.06990781,\n",
       "         -0.03526457, -0.16980232],\n",
       "        [ 0.1370662 , -0.01131535, -0.04919618, ..., -0.09190592,\n",
       "         -0.06356669,  0.04637724],\n",
       "        [ 0.08150125, -0.18389314,  0.13784428, ...,  0.08629201,\n",
       "          0.10123501, -0.00786703],\n",
       "        ...,\n",
       "        [-0.21030788, -0.17088524, -0.10289398, ..., -0.11001693,\n",
       "          0.02960117, -0.04944757],\n",
       "        [ 0.12106268,  0.09665825, -0.01533456, ..., -0.08409054,\n",
       "          0.08966042,  0.02770217],\n",
       "        [ 0.05591529, -0.10718444,  0.11546549, ..., -0.14450215,\n",
       "          0.02432199,  0.06545631]], dtype=float32),\n",
       " array([-0.01578772, -0.04313818, -0.01729795, -0.058284  , -0.02888233,\n",
       "        -0.047438  , -0.04328901, -0.02523459, -0.00069221, -0.07133161,\n",
       "        -0.0802023 , -0.0101123 , -0.0750942 , -0.05945666, -0.07728428,\n",
       "         0.06972914, -0.00295998, -0.04363187, -0.01495878, -0.00694958,\n",
       "         0.15153742, -0.02250903, -0.03498383, -0.07286471, -0.04227328,\n",
       "         0.00228971, -0.07273085, -0.03937887, -0.04064188, -0.0154268 ,\n",
       "        -0.04832377, -0.07749484, -0.05290763,  0.0138991 , -0.07219048,\n",
       "        -0.09875566, -0.07113171, -0.07678393, -0.01522481,  0.06189089,\n",
       "         0.0648847 , -0.04799287,  0.0032135 , -0.0921701 , -0.03705661,\n",
       "        -0.03467725, -0.00183141, -0.05411639, -0.01023274,  0.03723673,\n",
       "        -0.04579911,  0.0894688 , -0.05284915, -0.04058076, -0.09513512,\n",
       "        -0.04338286,  0.05049607, -0.01862054, -0.05093903, -0.02330337,\n",
       "        -0.04205065, -0.07499644, -0.02978874, -0.0246569 , -0.05946836,\n",
       "        -0.04874217, -0.04285472, -0.05871135, -0.04499997, -0.0848031 ,\n",
       "        -0.02686406,  0.15521765, -0.02878851,  0.04282539,  0.05679252,\n",
       "        -0.053406  , -0.00615105, -0.10726492,  0.01074568, -0.0641064 ,\n",
       "        -0.0105224 , -0.00601184, -0.02302013, -0.03041937,  0.00286677,\n",
       "        -0.07080035, -0.07011567,  0.00360588, -0.10094709,  0.00471947,\n",
       "        -0.03222322, -0.04886504,  0.00039491,  0.01375243, -0.03841783,\n",
       "         0.04665507, -0.07573742, -0.08107151, -0.03486321, -0.04865868,\n",
       "        -0.0785307 , -0.01809578,  0.01728424, -0.04277759, -0.06361227,\n",
       "        -0.00311269, -0.02841313, -0.03259015, -0.04125129, -0.05113211,\n",
       "        -0.0857581 , -0.00342165, -0.02556786, -0.07583196, -0.05229787,\n",
       "        -0.02916478, -0.01724813,  0.06536191,  0.01726055, -0.02550074,\n",
       "         0.0809691 , -0.07254235, -0.08071677, -0.06178664, -0.04885713,\n",
       "        -0.06231872,  0.06986988, -0.03658867], dtype=float32),\n",
       " array([[ 0.14583255,  0.14934911, -0.00529433, ..., -0.00518993,\n",
       "          0.26584134, -0.02489445],\n",
       "        [ 0.08565482, -0.17206988, -0.08410861, ..., -0.04608437,\n",
       "          0.0671232 , -0.045357  ],\n",
       "        [ 0.0086533 ,  0.00501095,  0.21185654, ..., -0.13061656,\n",
       "          0.1319706 , -0.13495344],\n",
       "        ...,\n",
       "        [-0.11405518,  0.00801112, -0.00370318, ..., -0.15465832,\n",
       "          0.06430458,  0.13032293],\n",
       "        [ 0.07572421, -0.09470586,  0.09743325, ..., -0.02730971,\n",
       "          0.25415063,  0.01699177],\n",
       "        [ 0.16597095,  0.04016297, -0.05838342, ...,  0.09237632,\n",
       "          0.19995232,  0.0362821 ]], dtype=float32),\n",
       " array([-0.02319578, -0.09796469,  0.1584076 ,  0.03005264, -0.03385837,\n",
       "         0.01431356, -0.06337256, -0.02682058, -0.10360496, -0.07285184,\n",
       "        -0.04957467, -0.01514122, -0.0535021 ,  0.10234358, -0.06598609,\n",
       "        -0.08454829, -0.02065835, -0.0331685 , -0.02517465,  0.02060787,\n",
       "        -0.09851405, -0.05589316, -0.1252939 , -0.0639431 , -0.02231922,\n",
       "        -0.06957885,  0.10302761,  0.02829128,  0.01924096, -0.06448295,\n",
       "         0.01824919,  0.20617951], dtype=float32),\n",
       " array([[-1.88291773e-01,  9.72537026e-02,  2.63477892e-01,\n",
       "         -2.75460094e-01, -3.44914019e-01, -1.63359046e-01,\n",
       "         -8.71197283e-02, -1.65729225e-01, -1.24951713e-01,\n",
       "          1.72977254e-01,  6.21543713e-02, -2.95472592e-01],\n",
       "        [ 3.37818384e-01,  7.37593099e-02,  1.11573085e-01,\n",
       "         -2.62381118e-02,  1.88800946e-01,  2.51590878e-01,\n",
       "         -3.37322772e-01,  1.37573164e-02,  2.57344633e-01,\n",
       "         -1.20037869e-01,  1.92701384e-01,  7.21927285e-02],\n",
       "        [-1.17791770e-02, -2.18226984e-01,  3.02884340e-01,\n",
       "          5.50269000e-02, -2.35481471e-01,  1.76348127e-02,\n",
       "         -2.19122112e-01,  1.79601252e-01, -2.53433764e-01,\n",
       "          3.30455378e-02, -3.51467133e-01, -6.72709495e-02],\n",
       "        [ 2.34527707e-01,  1.47547781e-01, -1.53439501e-02,\n",
       "         -4.60072719e-02, -4.19475853e-01,  1.27933204e-01,\n",
       "         -3.84765863e-01, -1.07591331e-01, -3.17149870e-02,\n",
       "          1.45173386e-01, -3.00718844e-01,  2.69984677e-02],\n",
       "        [-2.77241737e-01, -1.25636801e-01, -1.56542823e-01,\n",
       "         -6.35413677e-02,  5.66742718e-02,  2.61224844e-02,\n",
       "          2.59839028e-01,  1.06203906e-01,  2.02619866e-01,\n",
       "         -1.70676857e-01, -3.85801084e-02, -2.52596259e-01],\n",
       "        [ 2.34086350e-01, -1.00636147e-01, -3.61405909e-01,\n",
       "          1.44169152e-01, -2.57952157e-02,  9.77622811e-04,\n",
       "         -2.51253545e-01,  1.31289124e-01,  1.81953847e-01,\n",
       "         -1.90262690e-01, -3.62884045e-01, -1.11601397e-01],\n",
       "        [-2.96116173e-01, -3.52346487e-02,  3.15744579e-01,\n",
       "         -7.48642609e-02, -3.29141378e-01,  7.38254264e-02,\n",
       "         -3.17913353e-01, -2.92952448e-01,  1.20471306e-01,\n",
       "          4.71263640e-02,  4.43402082e-02,  3.06311399e-02],\n",
       "        [ 1.99472904e-01, -4.99008656e-01,  5.57324141e-02,\n",
       "         -4.91913259e-02,  3.10678463e-02,  1.76231340e-01,\n",
       "         -2.90927500e-01,  2.72315621e-01, -8.52360427e-02,\n",
       "          4.44929861e-02, -3.96884307e-02, -1.25492156e-01],\n",
       "        [-3.18383068e-01,  3.10432643e-01, -3.71101111e-01,\n",
       "         -2.21149281e-01,  1.88734293e-01,  1.16451368e-01,\n",
       "          2.63273120e-01,  1.93271458e-01,  5.51191792e-02,\n",
       "          5.49931936e-02, -2.91911606e-03,  5.74529506e-02],\n",
       "        [ 2.67162174e-01, -1.92271188e-01,  2.13502586e-01,\n",
       "          1.22539572e-01, -7.20134452e-02, -1.54820234e-01,\n",
       "          2.22311944e-01,  4.94553037e-02,  2.15214550e-01,\n",
       "          1.32560402e-01, -1.01559259e-01, -1.53041676e-01],\n",
       "        [-1.94335014e-01, -2.90376116e-02, -1.24161594e-01,\n",
       "         -1.01859324e-01,  1.56919792e-01,  1.75213829e-01,\n",
       "          3.05352490e-02, -2.44168222e-01, -2.71515280e-01,\n",
       "         -2.15036154e-01,  3.46734613e-01, -9.21311900e-02],\n",
       "        [-1.15212113e-01,  2.37370804e-01,  2.23967601e-02,\n",
       "         -2.15189636e-01, -1.11212127e-01, -4.37705934e-01,\n",
       "         -8.48819688e-02,  1.32812828e-01, -3.53733897e-01,\n",
       "         -1.10553876e-01,  1.75859019e-01, -2.52020899e-02],\n",
       "        [-3.28619182e-01,  2.10737169e-01,  3.72722119e-01,\n",
       "         -2.36091092e-01, -3.80206674e-01, -1.39963508e-01,\n",
       "         -1.07158497e-01, -1.98238343e-01,  1.80639490e-01,\n",
       "         -1.98697135e-01, -3.58653486e-01,  6.46279454e-02],\n",
       "        [ 1.55973239e-02,  2.73106266e-02, -2.39517301e-01,\n",
       "         -7.71675333e-02, -1.92951068e-01, -2.23907366e-01,\n",
       "         -1.44811898e-01,  4.00792003e-01, -2.78900862e-01,\n",
       "         -6.67203218e-02, -3.12374353e-01, -9.27879512e-02],\n",
       "        [ 1.31337484e-03, -9.01524276e-02, -3.05072010e-01,\n",
       "          3.35084647e-01, -2.23401487e-02, -1.57562628e-01,\n",
       "         -6.63172081e-02, -1.41709286e-04, -3.29774201e-01,\n",
       "         -3.08413476e-01,  1.37555197e-01,  9.21157971e-02],\n",
       "        [ 2.36605816e-02,  2.56286323e-01, -1.13590002e-01,\n",
       "         -3.70150268e-01,  6.11476488e-02,  1.49023905e-02,\n",
       "         -1.07852452e-01, -2.33376160e-01, -2.63332427e-01,\n",
       "         -9.33997110e-02, -1.29907474e-01, -9.09856148e-03],\n",
       "        [ 5.49715990e-03,  2.07602441e-01,  2.84767468e-02,\n",
       "         -2.58619189e-01, -7.06980452e-02, -6.72679543e-02,\n",
       "          1.71058893e-01,  1.51881650e-01,  1.71093509e-01,\n",
       "         -3.30154859e-02, -4.11828846e-01,  3.18137221e-02],\n",
       "        [-1.45021230e-01, -1.45072386e-01, -5.24763614e-02,\n",
       "          3.40229213e-01, -1.38252199e-01, -2.69930780e-01,\n",
       "          1.29931197e-01, -3.57033499e-02, -1.91763237e-01,\n",
       "          1.03031889e-01,  1.84848398e-01,  9.42663997e-02],\n",
       "        [ 1.98471174e-01,  2.50642508e-01, -2.28557274e-01,\n",
       "         -1.72307521e-01, -2.08014056e-01,  2.64308661e-01,\n",
       "          6.15572371e-02,  2.13432029e-01, -2.41453961e-01,\n",
       "          7.05462992e-02, -1.20911308e-01,  4.28819448e-01],\n",
       "        [-1.48662180e-01, -1.61560208e-01, -1.41361624e-01,\n",
       "         -2.53962338e-01,  1.26794308e-01,  2.64910996e-01,\n",
       "          6.98645785e-02, -3.20309162e-01,  9.72878933e-02,\n",
       "         -3.91308874e-01, -3.16629142e-01,  1.23886481e-01],\n",
       "        [ 1.00538626e-01,  1.07384538e-02, -2.64643371e-01,\n",
       "         -2.80786455e-01, -2.06014380e-01,  1.32072315e-01,\n",
       "         -1.07340924e-01, -1.80282742e-01, -3.78180370e-02,\n",
       "         -1.66999325e-01,  3.59541595e-01, -1.09100722e-01],\n",
       "        [-1.47917137e-01,  8.86874348e-02,  4.26682383e-01,\n",
       "         -4.07203764e-01,  1.53787479e-01, -1.42333135e-01,\n",
       "          8.95973668e-02,  6.63365424e-02,  5.85481003e-02,\n",
       "         -3.14695597e-01,  2.28521273e-01, -2.34427214e-01],\n",
       "        [ 2.55007386e-01,  1.68189794e-01,  1.31934062e-01,\n",
       "         -3.45945328e-01, -3.19046617e-01,  1.21733397e-01,\n",
       "          3.66087288e-01,  1.65379882e-01, -7.04825297e-02,\n",
       "         -1.99349701e-01, -3.24326493e-02,  1.73398912e-01],\n",
       "        [ 3.36405516e-01,  1.53833315e-01, -2.05604777e-01,\n",
       "         -1.90855801e-01,  2.20004041e-02, -1.68286458e-01,\n",
       "         -3.96884559e-03,  1.18716493e-01, -4.89846915e-02,\n",
       "         -2.97666997e-01, -3.39314908e-01,  4.09820408e-01],\n",
       "        [ 1.90795124e-01, -1.82719380e-01, -2.25031286e-01,\n",
       "         -3.03254366e-01,  2.26626813e-01, -3.30350786e-01,\n",
       "         -2.72048086e-01, -2.64368623e-01, -2.87487388e-01,\n",
       "          1.99819818e-01, -3.94177027e-02,  2.76072234e-01],\n",
       "        [ 1.66168153e-01, -1.31079396e-02,  3.58818591e-01,\n",
       "         -1.88012406e-01,  2.50566602e-01,  9.95271951e-02,\n",
       "          1.67371705e-02, -2.76350111e-01, -3.00652862e-01,\n",
       "          4.26012203e-02,  2.04783335e-01, -2.03883469e-01],\n",
       "        [ 2.29062259e-01,  1.32318512e-01, -1.81302652e-01,\n",
       "         -1.07592925e-01, -3.20822537e-01, -3.11792996e-02,\n",
       "         -4.85331416e-02,  6.26402199e-02,  3.62832844e-02,\n",
       "          3.14224549e-02, -1.88352168e-01, -3.84884775e-01],\n",
       "        [ 3.33282235e-03,  9.47662145e-02, -5.00475824e-01,\n",
       "          2.07210496e-01,  2.40051270e-01, -2.64111459e-01,\n",
       "          7.37673938e-02,  2.33997136e-01,  1.71544865e-01,\n",
       "          1.54382527e-01, -3.83437574e-02,  1.24851074e-02],\n",
       "        [-1.40735731e-01, -1.33617431e-01, -8.62248912e-02,\n",
       "         -4.74622935e-01,  1.22293361e-01,  2.32114404e-01,\n",
       "         -3.66549283e-01, -5.03239512e-01,  2.26969168e-01,\n",
       "         -1.49521142e-01, -3.17460030e-01,  1.54115409e-01],\n",
       "        [-5.63201308e-03, -1.06050149e-01, -3.22799772e-01,\n",
       "         -3.80192399e-01, -2.34083414e-01,  1.02823533e-01,\n",
       "          4.74907309e-02, -2.80384645e-02,  2.50849813e-01,\n",
       "          3.84746641e-02, -3.65716457e-01, -2.82433443e-02],\n",
       "        [-2.75623530e-01, -2.09669992e-01, -1.93648160e-01,\n",
       "         -3.15344632e-01,  2.79172547e-02,  3.15226495e-01,\n",
       "         -2.26432502e-01, -1.99218467e-01, -2.81805038e-01,\n",
       "         -3.77826810e-01,  5.77082746e-02,  1.44861251e-01],\n",
       "        [ 1.59031495e-01, -3.65871191e-01, -7.62033239e-02,\n",
       "          7.92318881e-02, -2.79364198e-01,  1.10342875e-01,\n",
       "         -1.86578467e-01,  4.05821502e-02, -6.80674016e-02,\n",
       "         -3.70762676e-01,  3.37488241e-02, -1.70035362e-01]], dtype=float32),\n",
       " array([ 0.08062004, -0.03065693,  0.15044214,  0.09773182, -0.03767018,\n",
       "         0.10020863, -0.07345898,  0.1684385 , -0.01415607, -0.00514399,\n",
       "        -0.1523937 , -0.2774116 ], dtype=float32),\n",
       " array([[ 0.26703972],\n",
       "        [ 0.19208331],\n",
       "        [-0.38077348],\n",
       "        [ 0.02428242],\n",
       "        [-0.03402666],\n",
       "        [-0.4192941 ],\n",
       "        [ 0.49534354],\n",
       "        [ 0.1493174 ],\n",
       "        [-0.37100065],\n",
       "        [ 0.15303822],\n",
       "        [ 0.00094035],\n",
       "        [ 0.29197657]], dtype=float32),\n",
       " array([-0.1355577], dtype=float32)]"
      ]
     },
     "execution_count": 96,
     "metadata": {},
     "output_type": "execute_result"
    }
   ],
   "source": [
    "(model.get_weights())"
   ]
  },
  {
   "cell_type": "code",
   "execution_count": 98,
   "metadata": {},
   "outputs": [
    {
     "name": "stdout",
     "output_type": "stream",
     "text": [
      "calling len\n",
      "calling len\n",
      "calling len\n",
      "Epoch 1/2\n",
      "95/95 [==============================] - 84s 881ms/step - loss: 0.4436 - binary_accuracy: 0.8505 - recall_1: 0.8569 - precision_1: 0.8462 - val_loss: 0.4126 - val_binary_accuracy: 0.8623 - val_recall_1: 0.8738 - val_precision_1: 0.8555\n",
      "Epoch 2/2\n",
      "calling len\n",
      "94/95 [============================>.] - ETA: 0s - loss: 0.2225 - binary_accuracy: 0.8840 - recall_1: 0.8954 - precision_1: 0.8774calling len\n",
      "95/95 [==============================] - 82s 862ms/step - loss: 0.2221 - binary_accuracy: 0.8841 - recall_1: 0.8955 - precision_1: 0.8775 - val_loss: 0.5729 - val_binary_accuracy: 0.8870 - val_recall_1: 0.9040 - val_precision_1: 0.8750\n"
     ]
    }
   ],
   "source": [
    "model_history=model.fit_generator(generator=training_batch_generator,\n",
    "                    steps_per_epoch=int(1523//batch_size),\n",
    "                    epochs=2,\n",
    "                    verbose=1,\n",
    "                    validation_data=validation_batch_generator,\n",
    "                    validation_steps=int(381//batch_size),\n",
    "                    use_multiprocessing=True,\n",
    "                    workers=10)"
   ]
  },
  {
   "cell_type": "code",
   "execution_count": 104,
   "metadata": {},
   "outputs": [
    {
     "ename": "AttributeError",
     "evalue": "'History' object has no attribute 'keys'",
     "output_type": "error",
     "traceback": [
      "\u001b[0;31m---------------------------------------------------------------------------\u001b[0m",
      "\u001b[0;31mAttributeError\u001b[0m                            Traceback (most recent call last)",
      "\u001b[0;32m<ipython-input-104-3ef1408aee4b>\u001b[0m in \u001b[0;36m<module>\u001b[0;34m()\u001b[0m\n\u001b[0;32m----> 1\u001b[0;31m \u001b[0mmodel_history\u001b[0m\u001b[0;34m.\u001b[0m\u001b[0mkeys\u001b[0m\u001b[0;34m\u001b[0m\u001b[0;34m\u001b[0m\u001b[0m\n\u001b[0m",
      "\u001b[0;31mAttributeError\u001b[0m: 'History' object has no attribute 'keys'"
     ]
    }
   ],
   "source": [
    "model_history.\n"
   ]
  },
  {
   "cell_type": "code",
   "execution_count": 14,
   "metadata": {},
   "outputs": [],
   "source": [
    "data_dir_quakes='/media/peter/data/earthquakenz/data/new_data/test_data/quakes/bloksnorm1/'\n",
    "data_dir_noquakes='/media/peter/data/earthquakenz/data/new_data/test_data/noquakes/bloksnorm1/'\n",
    "data_dir_all='/media/peter/data/earthquakenz/data/new_data/test_data/bloks_all/'\n",
    "quake_filenames=os.listdir(data_dir_quakes)\n",
    "noquake_filenames=os.listdir(data_dir_noquakes)\n",
    "labels =[] #labeled 1 if there is a quake, else 0\n",
    "filenames=[] #names of all the files\n",
    "\n",
    "for filename in quake_filenames:\n",
    "    if filename[-4:]=='.npy':\n",
    "        shutil.copy(data_dir_quakes+filename,data_dir_all)\n",
    "        labels.append(1)\n",
    "        filenames.append(filename)\n",
    "        \n",
    "for filename in noquake_filenames:\n",
    "    if filename[-4:]=='.npy':\n",
    "        shutil.copy(data_dir_noquakes+filename,data_dir_all)\n",
    "        labels.append(0)\n",
    "        filenames.append(filename)   \n",
    "    \n",
    "np.save(data_dir_all+'labels.npy',labels)\n",
    "np.save(data_dir_all+'filenames.npy',filenames)\n"
   ]
  },
  {
   "cell_type": "code",
   "execution_count": 5,
   "metadata": {},
   "outputs": [
    {
     "data": {
      "text/plain": [
       "'/media/peter/data/earthquakenz/data/newdata/quakes/bloksnorm1/'"
      ]
     },
     "execution_count": 5,
     "metadata": {},
     "output_type": "execute_result"
    }
   ],
   "source": [
    "data_dir_quakes\n"
   ]
  },
  {
   "cell_type": "code",
   "execution_count": 8,
   "metadata": {},
   "outputs": [],
   "source": [
    "data_dir_all='/media/peter/data/earthquakenz/data/new_data/bloks_all/'\n",
    "\n",
    "filenames=np.load(data_dir_all+'filenames.npy')\n",
    "labels=np.load(data_dir_all+'labels.npy')"
   ]
  },
  {
   "cell_type": "code",
   "execution_count": 9,
   "metadata": {},
   "outputs": [
    {
     "data": {
      "text/plain": [
       "array([1, 1, 1, ..., 0, 0, 0])"
      ]
     },
     "execution_count": 9,
     "metadata": {},
     "output_type": "execute_result"
    }
   ],
   "source": [
    "labels"
   ]
  },
  {
   "cell_type": "code",
   "execution_count": 10,
   "metadata": {},
   "outputs": [
    {
     "data": {
      "text/plain": [
       "array(['2017p777334.npy', '2013p448674.npy', '2013p474091.npy', ...,\n",
       "       '1530770909.32.npy', '1532246097.64.npy', '1533098724.47.npy'],\n",
       "      dtype='<U17')"
      ]
     },
     "execution_count": 10,
     "metadata": {},
     "output_type": "execute_result"
    }
   ],
   "source": [
    "filenames"
   ]
  },
  {
   "cell_type": "code",
   "execution_count": 11,
   "metadata": {},
   "outputs": [],
   "source": [
    "filenames_shuffled, labels_shuffled = sklearn.utils.shuffle(filenames,labels)\n",
    "X_train_filenames, X_val_filenames, y_train, y_val=train_test_split(filenames_shuffled, labels_shuffled,\n",
    "                                                                   test_size=0.2,random_state=1)"
   ]
  },
  {
   "cell_type": "code",
   "execution_count": 12,
   "metadata": {},
   "outputs": [
    {
     "data": {
      "text/plain": [
       "(array(['1461287166.63.npy', '1486733296.21.npy', '2016p741634.npy', ...,\n",
       "        '1445193187.49.npy', '2018p621732.npy', '1440017142.96.npy'],\n",
       "       dtype='<U17'), array([0, 0, 1, ..., 0, 1, 0]))"
      ]
     },
     "execution_count": 12,
     "metadata": {},
     "output_type": "execute_result"
    }
   ],
   "source": [
    "X_train_filenames,y_train"
   ]
  },
  {
   "cell_type": "code",
   "execution_count": null,
   "metadata": {},
   "outputs": [],
   "source": []
  }
 ],
 "metadata": {
  "kernelspec": {
   "display_name": "Python 3",
   "language": "python",
   "name": "python3"
  },
  "language_info": {
   "codemirror_mode": {
    "name": "ipython",
    "version": 3
   },
   "file_extension": ".py",
   "mimetype": "text/x-python",
   "name": "python",
   "nbconvert_exporter": "python",
   "pygments_lexer": "ipython3",
   "version": "3.6.9"
  }
 },
 "nbformat": 4,
 "nbformat_minor": 2
}
